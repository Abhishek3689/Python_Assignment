{
 "cells": [
  {
   "cell_type": "markdown",
   "id": "9360ccd7-867c-4805-a7ff-0076f55bdd6b",
   "metadata": {},
   "source": [
    "#### Q1, Create a vehicle class with an init method having instance variables as name_of_vehicle, max_speed\n",
    "#### and average_of_vehicle."
   ]
  },
  {
   "cell_type": "code",
   "execution_count": 1,
   "id": "25b84ab9-9efe-4387-a2c4-c87741831fdc",
   "metadata": {},
   "outputs": [],
   "source": [
    "import abc"
   ]
  },
  {
   "cell_type": "code",
   "execution_count": 2,
   "id": "0f3a2622-0b20-4bcf-849b-766ffbd50f61",
   "metadata": {},
   "outputs": [],
   "source": [
    "class vehicle:\n",
    "    @abc.abstractmethod\n",
    "    def __init__(self,name_of_vehicle,Max_speed,average_of_vehicle):\n",
    "        self.vehicle_name=name_of_vehicle\n",
    "        self.speed=Max_speed\n",
    "        self.average=average_of_vehicle\n",
    "    \n",
    "    @abc.abstractmethod\n",
    "    def seating_capacity(self,capacity):\n",
    "        #self.capacity=capacity\n",
    "        pass"
   ]
  },
  {
   "cell_type": "code",
   "execution_count": 3,
   "id": "d07b6af3-592b-49bf-a5ad-5518467bd878",
   "metadata": {},
   "outputs": [],
   "source": [
    "v1=vehicle(\"maruti\",140,20)"
   ]
  },
  {
   "cell_type": "code",
   "execution_count": 4,
   "id": "bc563875-3eaf-46d8-8b92-ddbfbdcc594e",
   "metadata": {},
   "outputs": [
    {
     "data": {
      "text/plain": [
       "140"
      ]
     },
     "execution_count": 4,
     "metadata": {},
     "output_type": "execute_result"
    }
   ],
   "source": [
    "v1.speed"
   ]
  },
  {
   "cell_type": "code",
   "execution_count": 5,
   "id": "4f8dfb70-c7b0-4d07-bd33-4837634954b6",
   "metadata": {},
   "outputs": [
    {
     "data": {
      "text/plain": [
       "'maruti'"
      ]
     },
     "execution_count": 5,
     "metadata": {},
     "output_type": "execute_result"
    }
   ],
   "source": [
    "v1.vehicle_name"
   ]
  },
  {
   "cell_type": "markdown",
   "id": "7b9f182b-5ff8-4d7e-b2a1-3c6c1a84e631",
   "metadata": {},
   "source": [
    "#### Q2. Create a child class car from the vehicle class created in Que 1, which will inherit the vehicle class.\n",
    "#### Create a method named seating_capacity which takes capacity as an argument and returns the name of\n",
    "#### the vehicle and its seating capacity."
   ]
  },
  {
   "cell_type": "code",
   "execution_count": null,
   "id": "5f84b837-801c-4325-9d58-8501f3bfe38a",
   "metadata": {},
   "outputs": [],
   "source": []
  },
  {
   "cell_type": "code",
   "execution_count": 6,
   "id": "bb6ffcc4-d45c-4ab3-8fa6-2b9b9940b102",
   "metadata": {},
   "outputs": [],
   "source": [
    "class car(vehicle):\n",
    "    \n",
    "    def seating_capacity(self,capacity):\n",
    "        \n",
    "        return self.vehicle_name,capacity"
   ]
  },
  {
   "cell_type": "code",
   "execution_count": 7,
   "id": "b99b3af0-bcdf-4db4-93cd-0ec48c32867f",
   "metadata": {},
   "outputs": [],
   "source": [
    "c1=car(\"Hyundi\",160,16)"
   ]
  },
  {
   "cell_type": "code",
   "execution_count": 8,
   "id": "f053c4b7-1244-45c4-a792-4ab24aa403d5",
   "metadata": {},
   "outputs": [
    {
     "data": {
      "text/plain": [
       "('Hyundi', 2)"
      ]
     },
     "execution_count": 8,
     "metadata": {},
     "output_type": "execute_result"
    }
   ],
   "source": [
    "c1.seating_capacity(2)"
   ]
  },
  {
   "cell_type": "code",
   "execution_count": 9,
   "id": "c18b6463-afb8-4066-a99d-b5fda2608cd3",
   "metadata": {},
   "outputs": [
    {
     "data": {
      "text/plain": [
       "('Hyundi', 5)"
      ]
     },
     "execution_count": 9,
     "metadata": {},
     "output_type": "execute_result"
    }
   ],
   "source": [
    "c1.seating_capacity(5)"
   ]
  },
  {
   "cell_type": "markdown",
   "id": "328cf667-aade-4a04-ae81-c7cc5c4e3fe4",
   "metadata": {},
   "source": [
    "#### Q3. What is multiple inheritance? Write a python code to demonstrate multiple inheritance."
   ]
  },
  {
   "cell_type": "code",
   "execution_count": 10,
   "id": "1c18eea3-ebef-4433-bbb4-3e57d5d45d1b",
   "metadata": {},
   "outputs": [],
   "source": [
    "### Multiple INheritance is Inheritance in which one class can inherit properties/methods from 2 or more classes"
   ]
  },
  {
   "cell_type": "code",
   "execution_count": 11,
   "id": "244ec2e4-0bcf-431b-b03e-596bdba1a213",
   "metadata": {},
   "outputs": [],
   "source": [
    "class A:\n",
    "    def class_A():\n",
    "        return \"I am in Class A\"\n",
    "    "
   ]
  },
  {
   "cell_type": "code",
   "execution_count": 12,
   "id": "9fe27f63-bbe1-4fad-a913-3262d1ebc1e4",
   "metadata": {},
   "outputs": [],
   "source": [
    "class B:\n",
    "    def class_B():\n",
    "        return \"I am in class B\""
   ]
  },
  {
   "cell_type": "code",
   "execution_count": 13,
   "id": "688a83ed-2974-45ba-b99c-ac17b41e8f85",
   "metadata": {},
   "outputs": [],
   "source": [
    "class C(A,B):\n",
    "    def class_C():\n",
    "        return \"I am mutilple class\""
   ]
  },
  {
   "cell_type": "code",
   "execution_count": 14,
   "id": "9377214d-0098-4c5d-a750-c8057e0f37d2",
   "metadata": {},
   "outputs": [
    {
     "data": {
      "text/plain": [
       "'I am in Class A'"
      ]
     },
     "execution_count": 14,
     "metadata": {},
     "output_type": "execute_result"
    }
   ],
   "source": [
    "C.class_A()"
   ]
  },
  {
   "cell_type": "code",
   "execution_count": 15,
   "id": "1ca36bfb-4372-4a3f-861e-4c094ec307c1",
   "metadata": {},
   "outputs": [
    {
     "data": {
      "text/plain": [
       "'I am in class B'"
      ]
     },
     "execution_count": 15,
     "metadata": {},
     "output_type": "execute_result"
    }
   ],
   "source": [
    "C.class_B()"
   ]
  },
  {
   "cell_type": "code",
   "execution_count": 16,
   "id": "71656080-cc76-425a-b887-822433f17b7d",
   "metadata": {},
   "outputs": [
    {
     "data": {
      "text/plain": [
       "'I am mutilple class'"
      ]
     },
     "execution_count": 16,
     "metadata": {},
     "output_type": "execute_result"
    }
   ],
   "source": [
    "C.class_C()"
   ]
  },
  {
   "cell_type": "markdown",
   "id": "3f4bf0fd-0870-4a9a-81fa-2f198278a021",
   "metadata": {},
   "source": [
    "#### Q4. What are getter and setter in python? Create a class and create a getter and a setter method in this class"
   ]
  },
  {
   "cell_type": "code",
   "execution_count": 17,
   "id": "53b20baf-4be0-4a9c-91ea-d5f0b101f451",
   "metadata": {},
   "outputs": [],
   "source": [
    "### getter is the methods which is used to get access to private attributes"
   ]
  },
  {
   "cell_type": "code",
   "execution_count": 18,
   "id": "93f09469-6295-413a-a522-eb47719b08df",
   "metadata": {},
   "outputs": [],
   "source": [
    "### setter is the methods by which we can manipualte private attributes"
   ]
  },
  {
   "cell_type": "code",
   "execution_count": 19,
   "id": "3a04f3ef-6812-4b5c-86da-fad878b3dbae",
   "metadata": {},
   "outputs": [],
   "source": [
    "class cricket:\n",
    "    def __init__(self,Player_name,age,IPL_Team):\n",
    "        self.Player_name=Player_name\n",
    "        self.Age=age\n",
    "        self.__IPL_Team=IPL_Team\n",
    "        \n",
    "    @property\n",
    "    def player_team(self):\n",
    "        return self.__IPL_Team\n",
    "    \n",
    "    @player_team.setter\n",
    "    def change_team(self,team):\n",
    "        self.__IPL_Team=team\n",
    "        \n",
    "        "
   ]
  },
  {
   "cell_type": "code",
   "execution_count": 20,
   "id": "981c9cfa-a929-47c5-bfbb-74cd920d34a0",
   "metadata": {},
   "outputs": [],
   "source": [
    "c1=cricket(\"Hardik Pandya\",29,\"Mumbai Indians\")"
   ]
  },
  {
   "cell_type": "code",
   "execution_count": 21,
   "id": "26e9a348-7783-4ee8-a865-8d3196060a44",
   "metadata": {},
   "outputs": [
    {
     "data": {
      "text/plain": [
       "'Hardik Pandya'"
      ]
     },
     "execution_count": 21,
     "metadata": {},
     "output_type": "execute_result"
    }
   ],
   "source": [
    "c1.Player_name"
   ]
  },
  {
   "cell_type": "code",
   "execution_count": 22,
   "id": "a219c84e-98ec-4b32-ac78-c409684f422d",
   "metadata": {},
   "outputs": [
    {
     "data": {
      "text/plain": [
       "29"
      ]
     },
     "execution_count": 22,
     "metadata": {},
     "output_type": "execute_result"
    }
   ],
   "source": [
    "c1.Age"
   ]
  },
  {
   "cell_type": "code",
   "execution_count": 23,
   "id": "6360186e-cce9-4ea3-ae6a-59eae04a5372",
   "metadata": {},
   "outputs": [
    {
     "data": {
      "text/plain": [
       "'Mumbai Indians'"
      ]
     },
     "execution_count": 23,
     "metadata": {},
     "output_type": "execute_result"
    }
   ],
   "source": [
    "c1.player_team"
   ]
  },
  {
   "cell_type": "code",
   "execution_count": 24,
   "id": "42a2a50b-2d23-4161-9745-513c702980ef",
   "metadata": {},
   "outputs": [],
   "source": [
    "c1.change_team=\"Gujrat Titans\""
   ]
  },
  {
   "cell_type": "code",
   "execution_count": 25,
   "id": "03f57bd6-92bd-4347-a311-bec6e5ea8f3b",
   "metadata": {},
   "outputs": [
    {
     "data": {
      "text/plain": [
       "'Gujrat Titans'"
      ]
     },
     "execution_count": 25,
     "metadata": {},
     "output_type": "execute_result"
    }
   ],
   "source": [
    "c1.player_team"
   ]
  },
  {
   "cell_type": "markdown",
   "id": "1464ab8b-084f-404d-aad4-a27c1cb14477",
   "metadata": {},
   "source": [
    "#### Q5.What is method overriding in python? Write a python code to demonstrate method overriding."
   ]
  },
  {
   "cell_type": "code",
   "execution_count": 26,
   "id": "ceb972a8-781f-4489-9c78-6ef4b587eac8",
   "metadata": {},
   "outputs": [],
   "source": [
    "### When a method in a subclass has the same name, same parameters or signature and \n",
    "### same return type(or sub-type) as a method in its super-class, then the method in the subclass \n",
    "#### is said to override the method in the super-class."
   ]
  },
  {
   "cell_type": "code",
   "execution_count": 27,
   "id": "e9d75590-e58e-4f78-b2db-1be8737da448",
   "metadata": {},
   "outputs": [],
   "source": [
    "class parent:\n",
    "    def show(self):\n",
    "        print(\"This is parent\")"
   ]
  },
  {
   "cell_type": "code",
   "execution_count": 28,
   "id": "865dbb05-6b0c-4c66-9c94-3b935b0fbb31",
   "metadata": {},
   "outputs": [],
   "source": [
    "class child(parent):\n",
    "    def show(self):\n",
    "        print(\"This is Child Class\")"
   ]
  },
  {
   "cell_type": "code",
   "execution_count": 29,
   "id": "77b0e545-d1c7-47c4-a5c6-5a2010527552",
   "metadata": {},
   "outputs": [],
   "source": [
    "p1=parent()"
   ]
  },
  {
   "cell_type": "code",
   "execution_count": 30,
   "id": "7bf3db98-bbfb-432d-8605-4b173c8dcd95",
   "metadata": {},
   "outputs": [],
   "source": [
    "c2=child()"
   ]
  },
  {
   "cell_type": "code",
   "execution_count": 31,
   "id": "84ea1ad3-53ce-47f0-abcd-f31c33249d0f",
   "metadata": {},
   "outputs": [
    {
     "name": "stdout",
     "output_type": "stream",
     "text": [
      "This is Child Class\n"
     ]
    }
   ],
   "source": [
    "c2.show()"
   ]
  },
  {
   "cell_type": "code",
   "execution_count": 32,
   "id": "eb72639c-4ef5-4d51-ae42-bdd32e7acc55",
   "metadata": {},
   "outputs": [
    {
     "name": "stdout",
     "output_type": "stream",
     "text": [
      "This is parent\n"
     ]
    }
   ],
   "source": [
    "p1.show()"
   ]
  },
  {
   "cell_type": "code",
   "execution_count": null,
   "id": "b3098523-6ba5-48cd-99d7-6527fcb28c28",
   "metadata": {},
   "outputs": [],
   "source": []
  }
 ],
 "metadata": {
  "kernelspec": {
   "display_name": "Python 3 (ipykernel)",
   "language": "python",
   "name": "python3"
  },
  "language_info": {
   "codemirror_mode": {
    "name": "ipython",
    "version": 3
   },
   "file_extension": ".py",
   "mimetype": "text/x-python",
   "name": "python",
   "nbconvert_exporter": "python",
   "pygments_lexer": "ipython3",
   "version": "3.10.8"
  }
 },
 "nbformat": 4,
 "nbformat_minor": 5
}
