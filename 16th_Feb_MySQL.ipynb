{
 "cells": [
  {
   "cell_type": "markdown",
   "id": "3e83bf84-4279-4a52-a86d-1c57f6e3d014",
   "metadata": {},
   "source": [
    "Q1. What is a database? Differentiate between SQL and NoSQL databases."
   ]
  },
  {
   "cell_type": "code",
   "execution_count": 1,
   "id": "d346be9b-d0ea-4859-8133-d0a0d23122a4",
   "metadata": {},
   "outputs": [],
   "source": [
    "## Database is the collection of organized data that is structured or unstructured. The database's primary goal is to store a huge amount of data"
   ]
  },
  {
   "cell_type": "code",
   "execution_count": 2,
   "id": "6719dace-26e7-4c92-b47d-341d1fddf0e3",
   "metadata": {},
   "outputs": [],
   "source": [
    "## SQL referes to Structure Query Language, while NoSQL i not only SQL"
   ]
  },
  {
   "cell_type": "code",
   "execution_count": 3,
   "id": "80827269-04fb-43d7-b048-2a80d91bf55c",
   "metadata": {},
   "outputs": [],
   "source": [
    "## SQL is the programming language used to interface with relational databases. \n",
    "## (Relational databases model data as records in rows and tables with logical links between them). \n",
    "## NoSQL is a class of DBMS that are non-relational and generally do not use SQL"
   ]
  },
  {
   "cell_type": "markdown",
   "id": "132a8116-785f-45c6-9098-4907a846f473",
   "metadata": {},
   "source": [
    "Q2. What is DDL? Explain why CREATE, DROP, ALTER, and TRUNCATE are used with an example."
   ]
  },
  {
   "cell_type": "code",
   "execution_count": 4,
   "id": "339517e5-9ad1-4e7b-9944-7bab64eed7a3",
   "metadata": {},
   "outputs": [],
   "source": [
    "## DDL(Data Definition Language): To make/perform changes to the physical structure of any table residing inside a database, DDL is used. \n",
    "## These commands when executed are auto-commit in nature and all the changes in the table are reflected and saved immediately."
   ]
  },
  {
   "cell_type": "code",
   "execution_count": 5,
   "id": "af31ea54-2be7-4e52-9106-84910439adf6",
   "metadata": {},
   "outputs": [],
   "source": [
    "## Create :this command is used to create a database/table. Below command will create databse student_db\n",
    "# create database if not exists student_db;\n",
    "# create table student_table (Roll_no int,Student_Name varchar(50),Contact int);"
   ]
  },
  {
   "cell_type": "code",
   "execution_count": 6,
   "id": "f123e666-787a-47b0-8f88-7e513a10a95d",
   "metadata": {},
   "outputs": [],
   "source": [
    "## Drop:Drop is used to drop database/table . All the structure is also deleted in drop statement.\n",
    "# Drop table student_table;\n",
    "# Drop database sudent_db;"
   ]
  },
  {
   "cell_type": "code",
   "execution_count": 7,
   "id": "e0cb72b2-2e51-4719-a5c8-b1606b5abc65",
   "metadata": {},
   "outputs": [],
   "source": [
    "## Alter:Alter command is used to alter/modify the table\n",
    "# Alter table student_table add column Marks int;"
   ]
  },
  {
   "cell_type": "code",
   "execution_count": 8,
   "id": "f62832a7-667c-4e11-b407-237cf8590b0b",
   "metadata": {},
   "outputs": [],
   "source": [
    "## Truncate : This command is similar to the drop table command. The only difference is that while the drop command removes the table as well as its contents,\n",
    "## the truncate command only erases the contents of the table's contents and not the table itself, structure of the table is maintained"
   ]
  },
  {
   "cell_type": "markdown",
   "id": "4f5d0ed7-de59-40ee-8d5e-a254dbca519e",
   "metadata": {},
   "source": [
    "Q3. What is DML? Explain INSERT, UPDATE, and DELETE with an example."
   ]
  },
  {
   "cell_type": "code",
   "execution_count": 9,
   "id": "cbc83dbb-37de-4312-8a96-7af75c8c9f12",
   "metadata": {},
   "outputs": [],
   "source": [
    "## DML(Data Manipulation Language): Once the tables are created and the database is generated using DDL commands, \n",
    "## manipulation inside those tables and databases is done using DML commands."
   ]
  },
  {
   "cell_type": "code",
   "execution_count": 10,
   "id": "7a36a32b-38a2-4073-b440-a85f2d555079",
   "metadata": {},
   "outputs": [],
   "source": [
    "## Insert : This statement is used to insert data into table \n",
    "# Insert into student_table values(1,\"Yuvraj Nishad\",9000090001);"
   ]
  },
  {
   "cell_type": "code",
   "execution_count": 11,
   "id": "4134d5fc-b88d-42ce-b7fc-d26ddf1696e0",
   "metadata": {},
   "outputs": [],
   "source": [
    "## Update: update command is used to update or make changes in table \n",
    "# update student_table set Roll_no=2 where Student_Name='Yuvraj Nishad';"
   ]
  },
  {
   "cell_type": "code",
   "execution_count": 12,
   "id": "52d0d673-1bd9-4e8a-8258-a16ddb3ca426",
   "metadata": {},
   "outputs": [],
   "source": [
    "## Delete: This is used to delete record/row from the table\n",
    "# Delete from student_table where Roll_no=2;"
   ]
  },
  {
   "cell_type": "markdown",
   "id": "1bdd9475-e1fe-4c1d-b3b7-96dc44b58212",
   "metadata": {},
   "source": [
    "Q4. What is DQL? Explain SELECT with an example."
   ]
  },
  {
   "cell_type": "code",
   "execution_count": 13,
   "id": "d2c8ef92-8e27-4e16-86a3-6cae62e1d1ea",
   "metadata": {},
   "outputs": [],
   "source": [
    "## DQL(Data Query Language): Data query language consists of only one command upon which data selection in SQL relies.\n",
    "## The SELECT command in combination with other SQL clauses is used to retrieve and fetch data from databases/tables based on certain conditions applied by the user."
   ]
  },
  {
   "cell_type": "code",
   "execution_count": 14,
   "id": "1bb33ebc-e6a8-4d81-a590-91d2e1277290",
   "metadata": {},
   "outputs": [],
   "source": [
    "## Select * from student_table; This will retrieve all records from the student_table\n"
   ]
  },
  {
   "cell_type": "markdown",
   "id": "74907cca-d4ff-46a8-b02b-7547106dda89",
   "metadata": {},
   "source": [
    "Q5. Explain Primary Key and Foreign Key."
   ]
  },
  {
   "cell_type": "code",
   "execution_count": 15,
   "id": "fdb0af81-e3ec-4c24-8334-5c15fc419aea",
   "metadata": {},
   "outputs": [],
   "source": [
    "## Primary Key:A primary key is used to ensure that data in the specific column is unique and not null."
   ]
  },
  {
   "cell_type": "code",
   "execution_count": 16,
   "id": "91e5dbe3-6985-4c06-a713-c9d5927e4989",
   "metadata": {},
   "outputs": [],
   "source": [
    "## Foreign Key:A foreign key is a column or group of columns in a relational database table that provides a link between data in two tables."
   ]
  },
  {
   "cell_type": "code",
   "execution_count": 17,
   "id": "550bc115-71d8-4bad-85d8-aef0f7135e8b",
   "metadata": {},
   "outputs": [],
   "source": [
    "## The table with the foreign key is called the child table, and the table with the primary key is called the referenced or parent table."
   ]
  },
  {
   "cell_type": "markdown",
   "id": "5ff34355-e09f-469e-92e9-8bb411142a0e",
   "metadata": {},
   "source": [
    "Q6. Write a python code to connect MySQL to python. Explain the cursor() and execute() method."
   ]
  },
  {
   "cell_type": "code",
   "execution_count": 18,
   "id": "daf34e2f-4813-47cf-9a4e-3fd84eb91fca",
   "metadata": {},
   "outputs": [
    {
     "ename": "ModuleNotFoundError",
     "evalue": "No module named 'mysql'",
     "output_type": "error",
     "traceback": [
      "\u001b[0;31m---------------------------------------------------------------------------\u001b[0m",
      "\u001b[0;31mModuleNotFoundError\u001b[0m                       Traceback (most recent call last)",
      "Cell \u001b[0;32mIn[18], line 1\u001b[0m\n\u001b[0;32m----> 1\u001b[0m \u001b[38;5;28;01mimport\u001b[39;00m \u001b[38;5;21;01mmysql\u001b[39;00m\u001b[38;5;21;01m.\u001b[39;00m\u001b[38;5;21;01mconnector\u001b[39;00m\n\u001b[1;32m      2\u001b[0m mydb \u001b[38;5;241m=\u001b[39m mysql\u001b[38;5;241m.\u001b[39mconnector\u001b[38;5;241m.\u001b[39mconnect(\n\u001b[1;32m      3\u001b[0m   host\u001b[38;5;241m=\u001b[39m\u001b[38;5;124m\"\u001b[39m\u001b[38;5;124mlocalhost\u001b[39m\u001b[38;5;124m\"\u001b[39m,\n\u001b[1;32m      4\u001b[0m   user\u001b[38;5;241m=\u001b[39m\u001b[38;5;124m\"\u001b[39m\u001b[38;5;124mabc\u001b[39m\u001b[38;5;124m\"\u001b[39m,\n\u001b[1;32m      5\u001b[0m   password\u001b[38;5;241m=\u001b[39m\u001b[38;5;124m\"\u001b[39m\u001b[38;5;124mpassword\u001b[39m\u001b[38;5;124m\"\u001b[39m\n\u001b[1;32m      6\u001b[0m )\n\u001b[1;32m      7\u001b[0m \u001b[38;5;28mprint\u001b[39m(mydb)\n",
      "\u001b[0;31mModuleNotFoundError\u001b[0m: No module named 'mysql'"
     ]
    }
   ],
   "source": [
    "import mysql.connector\n",
    "mydb = mysql.connector.connect(\n",
    "  host=\"localhost\",\n",
    "  user=\"abc\",\n",
    "  password=\"password\"\n",
    ")\n",
    "print(mydb)\n",
    "mycursor=mydb.cursor()\n",
    "mycursor.execute(\"show databases\")\n",
    "for i in mycursor:\n",
    "    print(i)\n",
    "mydb.close()"
   ]
  },
  {
   "cell_type": "code",
   "execution_count": 19,
   "id": "5590189c-1983-42b4-b2df-23ed20c0b5ec",
   "metadata": {},
   "outputs": [],
   "source": [
    "## A cursor is an object which helps to execute the query and fetch the records from the database"
   ]
  },
  {
   "cell_type": "code",
   "execution_count": 20,
   "id": "6553e0b8-9b00-41f9-a681-d667378277c5",
   "metadata": {},
   "outputs": [],
   "source": [
    "## The execute () method helps us to execute the query and return records according to the query."
   ]
  },
  {
   "cell_type": "markdown",
   "id": "1b1c6dff-cdbc-4cf9-be22-7c162e10daa8",
   "metadata": {},
   "source": [
    "Q7. Give the order of execution of SQL clauses in an SQL query."
   ]
  },
  {
   "cell_type": "code",
   "execution_count": 21,
   "id": "5336d8b1-858a-425b-bb72-33f1f61944e2",
   "metadata": {},
   "outputs": [],
   "source": [
    "## The SQL order of execution defines the order in which the clauses of a query are evaluated"
   ]
  },
  {
   "cell_type": "code",
   "execution_count": 22,
   "id": "1dca309a-99fa-46a9-a4be-e45f909d00d9",
   "metadata": {},
   "outputs": [],
   "source": [
    "# 1.from\n",
    "# 2.where\n",
    "# 3.group by\n",
    "# 4.having\n",
    "# 5.select\n",
    "# 6.order by\n",
    "# 7.limit"
   ]
  },
  {
   "cell_type": "code",
   "execution_count": null,
   "id": "af80facd-3b3e-452e-b9f7-aff903efc0c7",
   "metadata": {},
   "outputs": [],
   "source": []
  }
 ],
 "metadata": {
  "kernelspec": {
   "display_name": "Python 3 (ipykernel)",
   "language": "python",
   "name": "python3"
  },
  "language_info": {
   "codemirror_mode": {
    "name": "ipython",
    "version": 3
   },
   "file_extension": ".py",
   "mimetype": "text/x-python",
   "name": "python",
   "nbconvert_exporter": "python",
   "pygments_lexer": "ipython3",
   "version": "3.10.8"
  }
 },
 "nbformat": 4,
 "nbformat_minor": 5
}
