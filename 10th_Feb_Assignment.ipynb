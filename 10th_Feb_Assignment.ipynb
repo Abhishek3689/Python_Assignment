{
 "cells": [
  {
   "cell_type": "markdown",
   "id": "2b51e408-4744-4d16-b56b-fb5c81e90086",
   "metadata": {},
   "source": [
    "#### Q1. Which function is used to open a file? What are the different modes of opening a file? Explain \n",
    "#### each mode of file opening."
   ]
  },
  {
   "cell_type": "code",
   "execution_count": 1,
   "id": "b78d9b0f-5ee0-440c-babb-4b6a751ea14e",
   "metadata": {},
   "outputs": [],
   "source": [
    "### Open(\"filepath\",\"mode\") is used to open a file"
   ]
  },
  {
   "cell_type": "markdown",
   "id": "fd42dc7c-816f-4e2f-85dd-814315771470",
   "metadata": {},
   "source": [
    "### Different Modes are:\n",
    "1. read mode(r)\n",
    "2. write mode(w)\n",
    "3. append mode(a)"
   ]
  },
  {
   "cell_type": "code",
   "execution_count": 2,
   "id": "a034c29b-6c09-4499-b4e2-f3a6489dabc8",
   "metadata": {},
   "outputs": [],
   "source": [
    "## r mode is used to read data from the files"
   ]
  },
  {
   "cell_type": "code",
   "execution_count": 3,
   "id": "0c4d51ac-cb4b-4f2e-8204-18a0507e2bd0",
   "metadata": {},
   "outputs": [],
   "source": [
    "## w mode is used to write data in the file"
   ]
  },
  {
   "cell_type": "code",
   "execution_count": 4,
   "id": "f62543c8-574f-4614-aa55-03d9b1e59ac8",
   "metadata": {},
   "outputs": [],
   "source": [
    "## a mode is used to append data in the file from existing file"
   ]
  },
  {
   "cell_type": "markdown",
   "id": "a37288c6-d23b-4cff-b5a6-943b212bb7b8",
   "metadata": {},
   "source": [
    "#### Q2. Why close() function is used? Why is it important to close a file?"
   ]
  },
  {
   "cell_type": "code",
   "execution_count": 5,
   "id": "4760d386-714c-42c8-ae35-1616b2bc1abf",
   "metadata": {},
   "outputs": [],
   "source": [
    "## close() function is used to close the file after operation.\n",
    "## it is important to close for optimal resource usage and prevent other file interaction \n",
    "## If we do not close also some other function we may not able to execute for example if open in read mode and file\n",
    "## is not closed and we want to perform write operation it will not happen"
   ]
  },
  {
   "cell_type": "markdown",
   "id": "b2eddaaa-cfdc-4a05-b804-06de04405547",
   "metadata": {},
   "source": [
    "#### Q3. Write a python program to create a text file. Write ‘I want to become a Data Scientist’ in that file. Then\n",
    "#### close the file. Open this file and read the content of the file."
   ]
  },
  {
   "cell_type": "code",
   "execution_count": 6,
   "id": "a75075ba-5c5d-43c6-89db-a8e00aa809f9",
   "metadata": {},
   "outputs": [],
   "source": [
    "f=open(\"text.txt\",\"w\")\n",
    "f.write(\"I want to become a Data Scientist.\")\n",
    "f.close()"
   ]
  },
  {
   "cell_type": "code",
   "execution_count": 7,
   "id": "f617a38e-9d6c-46b9-b8b9-b19d15a32c48",
   "metadata": {},
   "outputs": [
    {
     "data": {
      "text/plain": [
       "'I want to become a Data Scientist.'"
      ]
     },
     "execution_count": 7,
     "metadata": {},
     "output_type": "execute_result"
    }
   ],
   "source": [
    "f=open(\"text.txt\",\"r\")\n",
    "f.read()"
   ]
  },
  {
   "cell_type": "code",
   "execution_count": 8,
   "id": "19604a69-bef9-4efd-b437-8698c27503f6",
   "metadata": {},
   "outputs": [],
   "source": [
    "f.close()"
   ]
  },
  {
   "cell_type": "markdown",
   "id": "2ff50e0a-2637-4a2c-a6c9-40ed4697ca4a",
   "metadata": {},
   "source": [
    "#### Q4. Explain the following with python code: read(), readline() and readlines()."
   ]
  },
  {
   "cell_type": "code",
   "execution_count": 9,
   "id": "2f7ce745-1818-4290-97f8-3ebd0b8d4d1e",
   "metadata": {},
   "outputs": [],
   "source": [
    "## read() is used to read complete file at once ,i.e. cursor will start at 0 index till last index of file"
   ]
  },
  {
   "cell_type": "code",
   "execution_count": 10,
   "id": "bf7d39b8-ac2a-4300-a659-fed7f97aa1d9",
   "metadata": {},
   "outputs": [],
   "source": [
    "## readline() is used to print 1 line at a time"
   ]
  },
  {
   "cell_type": "code",
   "execution_count": 11,
   "id": "682aa5c5-1e98-4b8d-b7a1-dd500daa2223",
   "metadata": {},
   "outputs": [],
   "source": [
    "## readlines() will give a list of all the lines in our file"
   ]
  },
  {
   "cell_type": "code",
   "execution_count": 12,
   "id": "84c131e9-5d5a-4f4d-b357-243ae63f35c1",
   "metadata": {},
   "outputs": [],
   "source": [
    "f=open(\"text.txt\",\"a\")\n",
    "f.write(\" I am learning important algorithms for machine learning. pwskills is amazing platform for this.\")\n",
    "f.close()"
   ]
  },
  {
   "cell_type": "code",
   "execution_count": 13,
   "id": "d6f9be6a-e416-4df2-8f92-e95aacad3de0",
   "metadata": {},
   "outputs": [
    {
     "data": {
      "text/plain": [
       "'I want to become a Data Scientist. I am learning important algorithms for machine learning. pwskills is amazing platform for this.'"
      ]
     },
     "execution_count": 13,
     "metadata": {},
     "output_type": "execute_result"
    }
   ],
   "source": [
    "f=open(\"text.txt\",\"r\")\n",
    "f.read()"
   ]
  },
  {
   "cell_type": "code",
   "execution_count": 14,
   "id": "f585d17f-9222-45c5-8088-10722cd44308",
   "metadata": {},
   "outputs": [
    {
     "data": {
      "text/plain": [
       "0"
      ]
     },
     "execution_count": 14,
     "metadata": {},
     "output_type": "execute_result"
    }
   ],
   "source": [
    "f.seek(0)"
   ]
  },
  {
   "cell_type": "code",
   "execution_count": 15,
   "id": "5599d57a-fbb9-4968-8c0f-cff66c949c19",
   "metadata": {},
   "outputs": [
    {
     "data": {
      "text/plain": [
       "'I want to become a Data Scientist. I am learning important algorithms for machine learning. pwskills is amazing platform for this.'"
      ]
     },
     "execution_count": 15,
     "metadata": {},
     "output_type": "execute_result"
    }
   ],
   "source": [
    "f.readline()"
   ]
  },
  {
   "cell_type": "code",
   "execution_count": 16,
   "id": "18fc637d-7a1c-48a4-a47c-a683819a20ce",
   "metadata": {},
   "outputs": [
    {
     "data": {
      "text/plain": [
       "''"
      ]
     },
     "execution_count": 16,
     "metadata": {},
     "output_type": "execute_result"
    }
   ],
   "source": [
    "f.readline()"
   ]
  },
  {
   "cell_type": "code",
   "execution_count": 17,
   "id": "b7716b43-1796-4b11-b4ff-e78b34a5ba5d",
   "metadata": {},
   "outputs": [
    {
     "data": {
      "text/plain": [
       "0"
      ]
     },
     "execution_count": 17,
     "metadata": {},
     "output_type": "execute_result"
    }
   ],
   "source": [
    "f.seek(0)"
   ]
  },
  {
   "cell_type": "code",
   "execution_count": 18,
   "id": "099655b3-1e3f-42c8-9c69-6283b2adaee3",
   "metadata": {},
   "outputs": [
    {
     "data": {
      "text/plain": [
       "['I want to become a Data Scientist. I am learning important algorithms for machine learning. pwskills is amazing platform for this.']"
      ]
     },
     "execution_count": 18,
     "metadata": {},
     "output_type": "execute_result"
    }
   ],
   "source": [
    "f.readlines()"
   ]
  },
  {
   "cell_type": "markdown",
   "id": "34726e5a-0afa-4b50-9421-a4f4e0c285d8",
   "metadata": {},
   "source": [
    "#### Q5. Explain why with statement is used with open(). What is the advantage of using with statement and open() together?"
   ]
  },
  {
   "cell_type": "code",
   "execution_count": 19,
   "id": "74e7c607-6d96-4c7a-b58d-8c31a13a6e2a",
   "metadata": {},
   "outputs": [],
   "source": [
    "## with statement is used with open as It ensures readablility and execution of program smoothly ,reduces chances of bug .\n",
    "## The file is automaticaly closed using with statemnt and open"
   ]
  },
  {
   "cell_type": "code",
   "execution_count": 20,
   "id": "77c0e1fb-1a9b-40f9-afdb-25ea3db87137",
   "metadata": {},
   "outputs": [
    {
     "name": "stdout",
     "output_type": "stream",
     "text": [
      "I want to become a Data Scientist. I am learning important algorithms for machine learning. pwskills is amazing platform for this.\n"
     ]
    }
   ],
   "source": [
    "with open(\"text.txt\",\"r\") as f:\n",
    "    print(f.read())"
   ]
  },
  {
   "cell_type": "markdown",
   "id": "5e5744b3-9adc-49d9-983f-36687d02335a",
   "metadata": {},
   "source": [
    "#### Q6. Explain the write() and writelines() functions. Give a suitable example."
   ]
  },
  {
   "cell_type": "code",
   "execution_count": 21,
   "id": "eaea83fe-0627-4ee2-b4b4-4ebd671e79d1",
   "metadata": {},
   "outputs": [],
   "source": [
    "## write() is used to write a string to an already opened file while \n",
    "## the writelines() method is used to write a list of strings in an opened file."
   ]
  },
  {
   "cell_type": "code",
   "execution_count": 22,
   "id": "31569359-7f06-41f2-a067-63369b7e2e54",
   "metadata": {},
   "outputs": [],
   "source": [
    "with open(\"text1.txt\",\"w\") as f:\n",
    "    f.write(\"I live in India.I love samosa\")"
   ]
  },
  {
   "cell_type": "code",
   "execution_count": null,
   "id": "be303e35-2437-4933-b921-ff02c4d6f5c5",
   "metadata": {},
   "outputs": [],
   "source": []
  },
  {
   "cell_type": "code",
   "execution_count": 23,
   "id": "89296099-f644-40ed-9484-1bf4b1d4a83c",
   "metadata": {},
   "outputs": [
    {
     "name": "stdout",
     "output_type": "stream",
     "text": [
      "I live in India.I love samosa\n"
     ]
    }
   ],
   "source": [
    "with open(\"text1.txt\",'r') as f:\n",
    "    print(f.read())"
   ]
  },
  {
   "cell_type": "code",
   "execution_count": 24,
   "id": "4e829c94-6b28-4207-9a7c-cdbde146b424",
   "metadata": {},
   "outputs": [],
   "source": [
    "with  open(\"text1.txt\",'w') as f:\n",
    "    f.writelines(\"I live in Paris. I love pizza\")"
   ]
  },
  {
   "cell_type": "code",
   "execution_count": 25,
   "id": "ebe53a19-3d9c-437d-b551-68927263326f",
   "metadata": {},
   "outputs": [
    {
     "name": "stdout",
     "output_type": "stream",
     "text": [
      "I live in Paris. I love pizza\n"
     ]
    }
   ],
   "source": [
    "with open(\"text1.txt\",'r') as f:\n",
    "    print(f.read())"
   ]
  },
  {
   "cell_type": "code",
   "execution_count": null,
   "id": "3ef39053-063c-41b2-9efe-d113d3c09fa7",
   "metadata": {},
   "outputs": [],
   "source": []
  }
 ],
 "metadata": {
  "kernelspec": {
   "display_name": "Python 3 (ipykernel)",
   "language": "python",
   "name": "python3"
  },
  "language_info": {
   "codemirror_mode": {
    "name": "ipython",
    "version": 3
   },
   "file_extension": ".py",
   "mimetype": "text/x-python",
   "name": "python",
   "nbconvert_exporter": "python",
   "pygments_lexer": "ipython3",
   "version": "3.10.8"
  }
 },
 "nbformat": 4,
 "nbformat_minor": 5
}
