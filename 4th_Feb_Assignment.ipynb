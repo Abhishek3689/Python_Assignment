{
 "cells": [
  {
   "cell_type": "markdown",
   "id": "ec3c6122-009e-4436-8802-2439c6e174e6",
   "metadata": {},
   "source": [
    "#### Q1. Create a python program to sort the given list of tuples based on integer value using a lambda function. \n",
    "\n",
    "\n",
    "[('Sachin Tendulkar', 34357), ('Ricky Ponting', 27483), ('Jack Kallis', 25534), ('Virat Kohli', 24936)]"
   ]
  },
  {
   "cell_type": "code",
   "execution_count": 40,
   "id": "97a5f5e8-7265-4502-bf92-9257a93c1b40",
   "metadata": {},
   "outputs": [],
   "source": [
    "l1=[('Sachin Tendulkar', 34357), ('Ricky Ponting', 27483), ('Jack Kallis', 25534), ('Virat Kohli', 24936)]"
   ]
  },
  {
   "cell_type": "code",
   "execution_count": 41,
   "id": "b14c7e40-a7d5-4366-b2a4-a34377e37a3e",
   "metadata": {},
   "outputs": [
    {
     "name": "stdout",
     "output_type": "stream",
     "text": [
      "Original List\n",
      "[('Sachin Tendulkar', 34357), ('Ricky Ponting', 27483), ('Jack Kallis', 25534), ('Virat Kohli', 24936)]\n",
      "\n",
      "After sortin using lambda \n",
      "[('Virat Kohli', 24936), ('Jack Kallis', 25534), ('Ricky Ponting', 27483), ('Sachin Tendulkar', 34357)]\n"
     ]
    }
   ],
   "source": [
    "print(\"Original List\")\n",
    "print(l1)\n",
    "print(\"\\nAfter sorting using lambda \")\n",
    "l1.sort(key=lambda x:x[1])\n",
    "print(l1)"
   ]
  },
  {
   "cell_type": "code",
   "execution_count": null,
   "id": "e8561c09-a206-46a0-9ca3-b684b13c72f1",
   "metadata": {},
   "outputs": [],
   "source": []
  },
  {
   "cell_type": "markdown",
   "id": "f2bb8123-85f9-43b1-b0cb-706a40d3b70d",
   "metadata": {},
   "source": [
    "#### Q2. Write a Python Program to find the squares of all the numbers in the given list of integers using\n",
    "lambda and map functions.\n",
    "\n",
    "\n",
    "[1, 2, 3, 4, 5, 6, 7, 8, 9, 10]"
   ]
  },
  {
   "cell_type": "code",
   "execution_count": 42,
   "id": "fba3664e-4691-46af-a89f-c2d64d3aefb4",
   "metadata": {},
   "outputs": [],
   "source": [
    "list1=[1, 2, 3, 4, 5, 6, 7, 8, 9, 10]"
   ]
  },
  {
   "cell_type": "code",
   "execution_count": 43,
   "id": "d15725f8-c92a-4a2a-bfcb-4814ec808a3a",
   "metadata": {},
   "outputs": [
    {
     "data": {
      "text/plain": [
       "[1, 4, 9, 16, 25, 36, 49, 64, 81, 100]"
      ]
     },
     "execution_count": 43,
     "metadata": {},
     "output_type": "execute_result"
    }
   ],
   "source": [
    "list(map(lambda x:x**2,list1))"
   ]
  },
  {
   "cell_type": "markdown",
   "id": "cbd7ea52-1b4a-4253-ab6f-b587058378eb",
   "metadata": {},
   "source": [
    "#### Q3. Write a python program to convert the given list of integers into a tuple of strings. Use map and\n",
    "#### lambda functions\n",
    "\n",
    "\n",
    "Given String: [1, 2, 3, 4, 5, 6, 7, 8, 9, 10]\n",
    "\n",
    "Expected output: ('1', '2', '3', '4', '5', '6', '7', '8', '9', '10')"
   ]
  },
  {
   "cell_type": "code",
   "execution_count": 44,
   "id": "101957bb-f5d9-4324-a222-26b5d8233e8f",
   "metadata": {},
   "outputs": [],
   "source": [
    "str_list=[1, 2, 3, 4, 5, 6, 7, 8, 9, 10]"
   ]
  },
  {
   "cell_type": "code",
   "execution_count": 45,
   "id": "169aff21-9cbd-43cf-9903-354eeb8cc903",
   "metadata": {},
   "outputs": [
    {
     "data": {
      "text/plain": [
       "('1', '2', '3', '4', '5', '6', '7', '8', '9', '10')"
      ]
     },
     "execution_count": 45,
     "metadata": {},
     "output_type": "execute_result"
    }
   ],
   "source": [
    "tuple(map(lambda x:str(x),str_list))"
   ]
  },
  {
   "cell_type": "markdown",
   "id": "7e70d2f0-76f5-4568-8ee4-37f37a924303",
   "metadata": {},
   "source": [
    "#### Q4.  Write a python program using reduce function to compute the product of a list containing \n",
    "#### numbers from 1 to 25."
   ]
  },
  {
   "cell_type": "code",
   "execution_count": 62,
   "id": "571a661f-8160-4083-bc16-6553d68b8f9c",
   "metadata": {},
   "outputs": [],
   "source": [
    "list_25=[i for i in range(1,26)]"
   ]
  },
  {
   "cell_type": "code",
   "execution_count": 63,
   "id": "6b81d369-a168-4bda-acb1-de7c34ff4175",
   "metadata": {},
   "outputs": [
    {
     "name": "stdout",
     "output_type": "stream",
     "text": [
      "[1, 2, 3, 4, 5, 6, 7, 8, 9, 10, 11, 12, 13, 14, 15, 16, 17, 18, 19, 20, 21, 22, 23, 24, 25]\n"
     ]
    }
   ],
   "source": [
    "print(list_25)"
   ]
  },
  {
   "cell_type": "code",
   "execution_count": 64,
   "id": "d8c8618e-2e3e-4b5f-9851-919763e29c96",
   "metadata": {},
   "outputs": [],
   "source": [
    "from functools import reduce"
   ]
  },
  {
   "cell_type": "code",
   "execution_count": 65,
   "id": "64821197-b385-4559-810c-1be9db1570c3",
   "metadata": {},
   "outputs": [
    {
     "data": {
      "text/plain": [
       "15511210043330985984000000"
      ]
     },
     "execution_count": 65,
     "metadata": {},
     "output_type": "execute_result"
    }
   ],
   "source": [
    "reduce(lambda x,y:x*y,list_25)"
   ]
  },
  {
   "cell_type": "markdown",
   "id": "e43f4351-e69e-4c7f-a5a3-311bfc485cf0",
   "metadata": {},
   "source": [
    "#### Q5. Write a python program to filter the numbers in a given list that are divisible by 2 and 3 using the\n",
    "#### filter function.\n",
    "\n",
    "\n",
    "[2, 3, 6, 9, 27, 60, 90, 120, 55, 46]"
   ]
  },
  {
   "cell_type": "code",
   "execution_count": 66,
   "id": "73bdaaf4-1979-4573-a8f0-2dd9db05944d",
   "metadata": {},
   "outputs": [],
   "source": [
    "div_list=[2, 3, 6, 9, 27, 60, 90, 120, 55, 46]"
   ]
  },
  {
   "cell_type": "code",
   "execution_count": 67,
   "id": "52017b0e-d034-4bc7-aad3-afda28806ca8",
   "metadata": {},
   "outputs": [
    {
     "data": {
      "text/plain": [
       "[2, 3, 6, 9, 27, 60, 90, 120, 46]"
      ]
     },
     "execution_count": 67,
     "metadata": {},
     "output_type": "execute_result"
    }
   ],
   "source": [
    "list(filter(lambda x:x%2==0 or x%3==0,div_list))"
   ]
  },
  {
   "cell_type": "markdown",
   "id": "10063516-e2c5-43c4-ab0a-afa57dae2175",
   "metadata": {},
   "source": [
    "#### Q6. Write a python program to find palindromes in the given list of strings using lambda and filter function.\n",
    "\n",
    "\n",
    "['python', 'php', 'aba', 'radar', 'level']"
   ]
  },
  {
   "cell_type": "code",
   "execution_count": 94,
   "id": "53acb9e6-28aa-467a-be28-08ef152cdb1c",
   "metadata": {},
   "outputs": [],
   "source": [
    "Palindrom_list=['python', 'php', 'aba', 'radar', 'level']"
   ]
  },
  {
   "cell_type": "code",
   "execution_count": 95,
   "id": "9fa79a38-8505-4c9b-95d3-6f303ff1eed5",
   "metadata": {},
   "outputs": [
    {
     "data": {
      "text/plain": [
       "['php', 'aba', 'radar', 'level']"
      ]
     },
     "execution_count": 95,
     "metadata": {},
     "output_type": "execute_result"
    }
   ],
   "source": [
    "list(filter(lambda x:x==x[::-1],Palindrom_list))"
   ]
  },
  {
   "cell_type": "code",
   "execution_count": 96,
   "id": "31953cc9-15b3-4f2f-9a45-d63a8cb8a8c3",
   "metadata": {},
   "outputs": [],
   "source": [
    "s1='radar'"
   ]
  },
  {
   "cell_type": "code",
   "execution_count": 97,
   "id": "908d3df5-dd45-4250-9ad4-ef2a7905cf64",
   "metadata": {},
   "outputs": [
    {
     "data": {
      "text/plain": [
       "True"
      ]
     },
     "execution_count": 97,
     "metadata": {},
     "output_type": "execute_result"
    }
   ],
   "source": [
    "s1==s1[::-1]"
   ]
  },
  {
   "cell_type": "code",
   "execution_count": null,
   "id": "514def66-3712-4f32-9549-18796005c5ca",
   "metadata": {},
   "outputs": [],
   "source": [
    "s1["
   ]
  }
 ],
 "metadata": {
  "kernelspec": {
   "display_name": "Python 3 (ipykernel)",
   "language": "python",
   "name": "python3"
  },
  "language_info": {
   "codemirror_mode": {
    "name": "ipython",
    "version": 3
   },
   "file_extension": ".py",
   "mimetype": "text/x-python",
   "name": "python",
   "nbconvert_exporter": "python",
   "pygments_lexer": "ipython3",
   "version": "3.10.8"
  }
 },
 "nbformat": 4,
 "nbformat_minor": 5
}
