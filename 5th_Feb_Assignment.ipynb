{
 "cells": [
  {
   "cell_type": "markdown",
   "id": "2cab6a96-4641-49d4-a2fb-3d60d7910228",
   "metadata": {},
   "source": [
    "#### Q1. Explain Class and Object with respect to Object-Oriented Programming. Give a suitable example."
   ]
  },
  {
   "cell_type": "markdown",
   "id": "061f3ee5-c3f2-469b-92ef-1ef4bf4e21bc",
   "metadata": {},
   "source": [
    "###### Class is a bluebrint or object constructor that defines the object, A class can have mutiple instance or objects "
   ]
  },
  {
   "cell_type": "markdown",
   "id": "792bc853-c059-4373-bc78-9a6693ffa5f8",
   "metadata": {},
   "source": [
    "###### Object is an instance of class,containing actual values of class "
   ]
  },
  {
   "cell_type": "code",
   "execution_count": 1,
   "id": "d17a3f1c-c4d1-4e2a-8f9c-097fbca3e1e3",
   "metadata": {},
   "outputs": [],
   "source": [
    "### Below is the class \n",
    "class student_details:\n",
    "    def __init__(self,roll_no,name,mobile):\n",
    "        self.roll_no=roll_no\n",
    "        self.name=name\n",
    "        self.mobile=mobile"
   ]
  },
  {
   "cell_type": "code",
   "execution_count": 2,
   "id": "1affbd60-309b-4cb3-95aa-68bd4cf70457",
   "metadata": {},
   "outputs": [],
   "source": [
    "### stdent1 and student2 are the objects of class student_details\n",
    "student1=student_details(11,\"Abhishek Nishad\",888889999) "
   ]
  },
  {
   "cell_type": "code",
   "execution_count": 3,
   "id": "ddc4d92e-2132-474b-b6e4-cae6bcfb7f20",
   "metadata": {},
   "outputs": [],
   "source": [
    "student2=student_details(12,\"Aniket Chavan\",999955557)"
   ]
  },
  {
   "cell_type": "markdown",
   "id": "41dd8fe1-0765-4e53-97e6-899e4bc49860",
   "metadata": {},
   "source": [
    "#### Q2. Name the four pillars of OOPs"
   ]
  },
  {
   "cell_type": "markdown",
   "id": "b278654a-0d7c-40b0-a3bc-dca892906df6",
   "metadata": {},
   "source": [
    "##### Four Pillars are\n",
    "###### 1. Polymorphism  \n",
    "###### 2.Encapsulation  \n",
    "###### 3.Inheritance  \n",
    "###### 4.Abstraction"
   ]
  },
  {
   "cell_type": "markdown",
   "id": "df3c6b3e-4e49-4570-8e76-0fcf5482776f",
   "metadata": {},
   "source": [
    "#### Q3. Explain why the __init__() function is used. Give a suitable example."
   ]
  },
  {
   "cell_type": "markdown",
   "id": "6b7338fe-7fea-40f1-8625-fcc182442b9c",
   "metadata": {},
   "source": [
    "###### def__init__() is a constructor and used to assign values to objects using class"
   ]
  },
  {
   "cell_type": "code",
   "execution_count": 4,
   "id": "c38a669e-5f91-4bc0-a7e4-fd8facd6db2c",
   "metadata": {},
   "outputs": [],
   "source": [
    "class student_details:\n",
    "    def __init__(self,roll_no,name,mobile):\n",
    "        self.roll_no=roll_no\n",
    "        self.name=name\n",
    "        self.mobile=mobile"
   ]
  },
  {
   "cell_type": "code",
   "execution_count": 5,
   "id": "6542fcef-9920-4199-8b04-03549ba8f1f5",
   "metadata": {},
   "outputs": [],
   "source": [
    "student1=student_details(15,\"Rahul Sahu\",555534244)"
   ]
  },
  {
   "cell_type": "code",
   "execution_count": 6,
   "id": "6ba5d960-3d11-4ec3-8141-93f0c33336e0",
   "metadata": {},
   "outputs": [
    {
     "data": {
      "text/plain": [
       "555534244"
      ]
     },
     "execution_count": 6,
     "metadata": {},
     "output_type": "execute_result"
    }
   ],
   "source": [
    "student1.mobile"
   ]
  },
  {
   "cell_type": "code",
   "execution_count": 7,
   "id": "ee6cb2ea-3ba2-4d95-bfd8-eb5c491a31dc",
   "metadata": {},
   "outputs": [
    {
     "data": {
      "text/plain": [
       "'Rahul Sahu'"
      ]
     },
     "execution_count": 7,
     "metadata": {},
     "output_type": "execute_result"
    }
   ],
   "source": [
    "student1.name"
   ]
  },
  {
   "cell_type": "markdown",
   "id": "b1a9a3d2-4955-49d7-bdd4-015606fe09f6",
   "metadata": {},
   "source": [
    "#### Q4. Why self is used in OOPs?"
   ]
  },
  {
   "cell_type": "markdown",
   "id": "e80f8195-feb5-41b3-85d0-24f5ad33d4f4",
   "metadata": {},
   "source": [
    "###### Self is used as a reference for current instance of class and used to access variables belonging to class"
   ]
  },
  {
   "cell_type": "markdown",
   "id": "79c1fc07-da91-4c7b-a524-575cdb53d1a2",
   "metadata": {},
   "source": [
    "#### Q5. What is inheritance? Give an example for each type of inheritance."
   ]
  },
  {
   "cell_type": "markdown",
   "id": "56a891e5-1671-44cf-a6b1-c588278b8705",
   "metadata": {},
   "source": [
    "###### Inheritance is the technique  by which one class can inherit property and methods of other class"
   ]
  },
  {
   "cell_type": "markdown",
   "id": "95fb99a8-e855-4344-abbb-b69e8de722f0",
   "metadata": {},
   "source": [
    "##### Single Inheritance"
   ]
  },
  {
   "cell_type": "code",
   "execution_count": 8,
   "id": "eaa013ca-e495-413d-beb3-34785cf73c7e",
   "metadata": {},
   "outputs": [],
   "source": [
    "class parent:\n",
    "    def primary_details(self,name,age):\n",
    "        self.name=name\n",
    "        self.age=age"
   ]
  },
  {
   "cell_type": "code",
   "execution_count": 9,
   "id": "18a32509-3fee-4976-b5c0-3dca2fb850aa",
   "metadata": {},
   "outputs": [],
   "source": [
    "p1=parent()"
   ]
  },
  {
   "cell_type": "code",
   "execution_count": 10,
   "id": "46f4f1c6-eb2c-48ce-b318-3ae1cd2a2318",
   "metadata": {},
   "outputs": [],
   "source": [
    "p1.primary_details(\"Abhi\",32)"
   ]
  },
  {
   "cell_type": "code",
   "execution_count": 11,
   "id": "254520b2-ff9e-43e9-bb59-17abf88396f0",
   "metadata": {},
   "outputs": [],
   "source": [
    "class child1(parent):\n",
    "    def secondary_details(self,name,email):\n",
    "        self.name=name\n",
    "        self.email=email"
   ]
  },
  {
   "cell_type": "code",
   "execution_count": 12,
   "id": "f0cc3c25-4dc6-49df-a606-0f66fac045c4",
   "metadata": {},
   "outputs": [],
   "source": [
    "c1=child1()"
   ]
  },
  {
   "cell_type": "code",
   "execution_count": 13,
   "id": "a4e86839-1683-4784-ba16-ebeafb32cad5",
   "metadata": {},
   "outputs": [],
   "source": [
    "c1.primary_details('Nitesh',29) ## We can see child has inherited parent methods"
   ]
  },
  {
   "cell_type": "markdown",
   "id": "237ada6f-eadf-4537-84ad-03f269f9454f",
   "metadata": {},
   "source": [
    "##### Multilevel Inheritance"
   ]
  },
  {
   "cell_type": "code",
   "execution_count": 14,
   "id": "98cadefb-4741-4914-9fa6-46af08a27fc7",
   "metadata": {},
   "outputs": [],
   "source": [
    "class multi_level(child1):\n",
    "    def course(self,course,fees):\n",
    "        self.course=course\n",
    "        self.fees=fees"
   ]
  },
  {
   "cell_type": "code",
   "execution_count": 15,
   "id": "202d6354-a169-4e60-9419-73099dc1fb20",
   "metadata": {},
   "outputs": [],
   "source": [
    "m1=multi_level()"
   ]
  },
  {
   "cell_type": "code",
   "execution_count": 16,
   "id": "6bac83f6-c18c-466c-a3aa-424340121452",
   "metadata": {},
   "outputs": [],
   "source": [
    "m1.primary_details(\"Aniket\",33) "
   ]
  },
  {
   "cell_type": "code",
   "execution_count": 17,
   "id": "18b0fd0e-d961-403e-9240-2f22b553d372",
   "metadata": {},
   "outputs": [],
   "source": [
    "m1.secondary_details(\"Aniket\",\"aniket@gmail.com\") ## here Multi_level class has inherited child1 property and child1 has parent"
   ]
  },
  {
   "cell_type": "markdown",
   "id": "02e15053-c606-4475-8428-97c4edee4984",
   "metadata": {},
   "source": [
    "##### Multiple Inheritance"
   ]
  },
  {
   "cell_type": "code",
   "execution_count": 18,
   "id": "5253d2d5-59b4-45f2-a5c3-3364391e68fd",
   "metadata": {},
   "outputs": [],
   "source": [
    "class sports:\n",
    "    def sport_details(self,sports_name,no_of_player):\n",
    "        self.sports_name=sports_name\n",
    "        self.no_of_player=no_of_player"
   ]
  },
  {
   "cell_type": "code",
   "execution_count": 19,
   "id": "b59cbcb3-8ab2-4749-bb47-a958ce42c46e",
   "metadata": {},
   "outputs": [],
   "source": [
    "class players:\n",
    "    def player_details(self,player_name,age):\n",
    "        self.player_name=player_name\n",
    "        self.age=age"
   ]
  },
  {
   "cell_type": "code",
   "execution_count": 20,
   "id": "1ced0b40-0860-4caa-9d19-e9cfc0696fb0",
   "metadata": {},
   "outputs": [],
   "source": [
    "class sport_player(sports,players):\n",
    "    pass"
   ]
  },
  {
   "cell_type": "code",
   "execution_count": 21,
   "id": "30b76a9e-5337-4c0f-b7e6-c812a5129667",
   "metadata": {},
   "outputs": [],
   "source": [
    "sport1=sport_player()"
   ]
  },
  {
   "cell_type": "code",
   "execution_count": 22,
   "id": "aee1684f-6393-4f85-b5c3-c34460110ee4",
   "metadata": {},
   "outputs": [],
   "source": [
    "sport1.sport_details(\"cricket\",11)"
   ]
  },
  {
   "cell_type": "code",
   "execution_count": 23,
   "id": "ea8a166e-18d6-41fb-8c77-b81c4ecbea04",
   "metadata": {},
   "outputs": [],
   "source": [
    "sport1.player_details(\"Sachin tendulkar\",45)"
   ]
  },
  {
   "cell_type": "code",
   "execution_count": 24,
   "id": "beb1876c-6e4b-410d-a852-67e9ae8f33e4",
   "metadata": {},
   "outputs": [
    {
     "data": {
      "text/plain": [
       "'cricket'"
      ]
     },
     "execution_count": 24,
     "metadata": {},
     "output_type": "execute_result"
    }
   ],
   "source": [
    "sport1.sports_name"
   ]
  },
  {
   "cell_type": "code",
   "execution_count": 25,
   "id": "77669281-4fb6-4eb5-87e9-3336e88fd366",
   "metadata": {},
   "outputs": [
    {
     "data": {
      "text/plain": [
       "'Sachin tendulkar'"
      ]
     },
     "execution_count": 25,
     "metadata": {},
     "output_type": "execute_result"
    }
   ],
   "source": [
    "sport1.player_name  ### class sport_player has inherited both sport_details and player_details class"
   ]
  },
  {
   "cell_type": "markdown",
   "id": "22c2fece-7e93-45ea-bf5e-8769bf14da5b",
   "metadata": {},
   "source": [
    "##### Hierarchical Inheritance:"
   ]
  },
  {
   "cell_type": "code",
   "execution_count": 26,
   "id": "5eafb5e3-4be0-44f7-afe9-4873d6d65493",
   "metadata": {},
   "outputs": [],
   "source": [
    "## In Hierarchical Inheritance There are multiple derived classes from a single base class"
   ]
  },
  {
   "cell_type": "code",
   "execution_count": 27,
   "id": "807cda5d-9f52-4f34-86eb-740ef77a6811",
   "metadata": {},
   "outputs": [],
   "source": [
    "class A:\n",
    "    def function_1(self):\n",
    "        print(\"This is base Class\")"
   ]
  },
  {
   "cell_type": "code",
   "execution_count": 28,
   "id": "657104d1-a5fd-40e9-a4a1-334d631fbe07",
   "metadata": {},
   "outputs": [],
   "source": [
    "class B(A):\n",
    "    def function_2(self):\n",
    "        print(\"Child Class of A\")"
   ]
  },
  {
   "cell_type": "code",
   "execution_count": 29,
   "id": "ce8e4f83-32b0-471f-84b8-03e27d68d8ce",
   "metadata": {},
   "outputs": [],
   "source": [
    "class C(A):\n",
    "    def function_3(self):\n",
    "        print(\"Child Class of A\")"
   ]
  },
  {
   "cell_type": "code",
   "execution_count": 30,
   "id": "98eb5de9-5119-4992-83e0-7d59c77aecbc",
   "metadata": {},
   "outputs": [],
   "source": [
    "obj1=C()\n",
    "obj2=B()"
   ]
  },
  {
   "cell_type": "code",
   "execution_count": 31,
   "id": "3ce304a8-ae88-445c-a7af-05ac69376db3",
   "metadata": {},
   "outputs": [
    {
     "name": "stdout",
     "output_type": "stream",
     "text": [
      "This is base Class\n",
      "Child Class of A\n"
     ]
    }
   ],
   "source": [
    "obj1.function_1()\n",
    "obj1.function_3()"
   ]
  },
  {
   "cell_type": "code",
   "execution_count": 32,
   "id": "a0042dfa-4b9a-4ea9-a297-e1badeb5ac43",
   "metadata": {},
   "outputs": [
    {
     "name": "stdout",
     "output_type": "stream",
     "text": [
      "This is base Class\n"
     ]
    }
   ],
   "source": [
    "obj2.function_1()"
   ]
  },
  {
   "cell_type": "code",
   "execution_count": 33,
   "id": "7d2caa51-ca90-44b4-a215-9c35177b6151",
   "metadata": {},
   "outputs": [
    {
     "name": "stdout",
     "output_type": "stream",
     "text": [
      "Child Class of A\n"
     ]
    }
   ],
   "source": [
    "obj2.function_2()"
   ]
  },
  {
   "cell_type": "markdown",
   "id": "65a5c068-16ae-4ac9-aa00-51fd18063452",
   "metadata": {},
   "source": [
    "##### Hybrid Inheritance"
   ]
  },
  {
   "cell_type": "code",
   "execution_count": 34,
   "id": "ff7c4203-3d82-4afa-ae23-e2e5ea8dce13",
   "metadata": {},
   "outputs": [],
   "source": [
    "### It combines multiple inheritances with multilevel inheritance. \n",
    "## A class can have two or more parent classes, but only one of them can have derived classes"
   ]
  },
  {
   "cell_type": "code",
   "execution_count": 35,
   "id": "9c2b4384-d98f-4019-b64a-cf0f1ea3fcfd",
   "metadata": {},
   "outputs": [],
   "source": [
    "class Parent1:\n",
    "    def function_1(self):\n",
    "        print(\"This is in Parent1\")"
   ]
  },
  {
   "cell_type": "code",
   "execution_count": 36,
   "id": "1e864015-5cb0-4378-ae9d-403d99c4939c",
   "metadata": {},
   "outputs": [],
   "source": [
    "class Child(Parent1):\n",
    "    def function_2(self):\n",
    "        print(\"This is in Child Class\")"
   ]
  },
  {
   "cell_type": "code",
   "execution_count": 37,
   "id": "9b56c4a8-81ce-41d2-82f8-719112d586a6",
   "metadata": {},
   "outputs": [],
   "source": [
    "class Child2:\n",
    "    def function_3(self):\n",
    "        print(\"This is in Child_2 Class\")"
   ]
  },
  {
   "cell_type": "code",
   "execution_count": 38,
   "id": "4f487970-e467-41de-bbc2-4551e85c92c8",
   "metadata": {},
   "outputs": [],
   "source": [
    "class Hybrid_1(Child,Child2):\n",
    "    def function_3(self):\n",
    "        print(\"This is Hybrid_1 Class\")"
   ]
  },
  {
   "cell_type": "code",
   "execution_count": 39,
   "id": "ff5c81b6-6549-40e5-aaef-3dd422772ff8",
   "metadata": {},
   "outputs": [],
   "source": [
    "hybrid_obj=Hybrid_1()"
   ]
  },
  {
   "cell_type": "code",
   "execution_count": 40,
   "id": "53c1c4ff-5988-47e2-8593-b7f371b50e50",
   "metadata": {},
   "outputs": [
    {
     "name": "stdout",
     "output_type": "stream",
     "text": [
      "This is in Parent1\n"
     ]
    }
   ],
   "source": [
    "hybrid_obj.function_1()"
   ]
  },
  {
   "cell_type": "code",
   "execution_count": 41,
   "id": "df34fe67-06a1-4dd2-a220-08830ae6f273",
   "metadata": {},
   "outputs": [
    {
     "name": "stdout",
     "output_type": "stream",
     "text": [
      "This is in Child Class\n"
     ]
    }
   ],
   "source": [
    "hybrid_obj.function_2()"
   ]
  },
  {
   "cell_type": "code",
   "execution_count": 42,
   "id": "0f808f86-2aee-463f-aa1c-1f2e0efbc2c9",
   "metadata": {},
   "outputs": [
    {
     "name": "stdout",
     "output_type": "stream",
     "text": [
      "This is Hybrid_1 Class\n"
     ]
    }
   ],
   "source": [
    "hybrid_obj.function_3()"
   ]
  },
  {
   "cell_type": "code",
   "execution_count": null,
   "id": "60feb916-9ece-4fb2-a821-334f7c7a2cd4",
   "metadata": {},
   "outputs": [],
   "source": []
  }
 ],
 "metadata": {
  "kernelspec": {
   "display_name": "Python 3 (ipykernel)",
   "language": "python",
   "name": "python3"
  },
  "language_info": {
   "codemirror_mode": {
    "name": "ipython",
    "version": 3
   },
   "file_extension": ".py",
   "mimetype": "text/x-python",
   "name": "python",
   "nbconvert_exporter": "python",
   "pygments_lexer": "ipython3",
   "version": "3.10.8"
  }
 },
 "nbformat": 4,
 "nbformat_minor": 5
}
