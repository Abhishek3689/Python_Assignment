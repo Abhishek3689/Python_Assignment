{
 "cells": [
  {
   "cell_type": "markdown",
   "id": "e4430eda-1372-4135-83d9-efe60ca2d3a6",
   "metadata": {},
   "source": [
    "#### Q1. Create a function which will take a list as an argument and return the product of all the numbers\n",
    "#### after creating a flat list.\n",
    "\n",
    "Use the below-given list as an argument for your function.\n",
    "\n",
    "\n",
    "list1 = [1,2,3,4, [44,55,66, True], False, (34,56,78,89,34), {1,2,3,3,2,1}, {1:34, \"key2\": [55, 67, 78, 89], 4: (45,\n",
    "22, 61, 34)}, [56, 'data science'], 'Machine Learning']\n",
    "\n",
    "\n",
    "Note: you must extract numeric keys and values of the dictionary also."
   ]
  },
  {
   "cell_type": "code",
   "execution_count": 1,
   "id": "7cf475e5-67dd-4217-9fce-d3327d8d200e",
   "metadata": {},
   "outputs": [],
   "source": [
    "list1 = [1,2,3,4, [44,55,66, True], False, (34,56,78,89,34), {1,2,3,3,2,1}, {1:34, \"key2\": [55, 67, 78, 89], 4: (45,\n",
    "22, 61, 34)}, [56, 'data science'], 'Machine Learning']"
   ]
  },
  {
   "cell_type": "code",
   "execution_count": 11,
   "id": "0a6a7caa-491e-4eab-a2a5-d50d62420fce",
   "metadata": {},
   "outputs": [
    {
     "name": "stdout",
     "output_type": "stream",
     "text": [
      "[1, 2, 3, 4, [44, 55, 66, True], False, (34, 56, 78, 89, 34), {1, 2, 3}, {1: 34, 'key2': [55, 67, 78, 89], 4: (45, 22, 61, 34)}, [56, 'data science'], 'Machine Learning']\n"
     ]
    }
   ],
   "source": [
    "print(list1)"
   ]
  },
  {
   "cell_type": "code",
   "execution_count": 33,
   "id": "aa96ca71-441c-43e3-ac54-1245240e3de8",
   "metadata": {},
   "outputs": [],
   "source": [
    "def Multiplication_of_numbers(list1):\n",
    "    \n",
    "    list2=[]\n",
    "    for element in list1:\n",
    "        if type(element)==int:\n",
    "            list2.append(element)\n",
    "        elif (type(element)==list or type(element)==tuple or type(element)==set):\n",
    "            for i in element:\n",
    "                list2.append(i)\n",
    "        elif type(element)==dict:\n",
    "            for key,value in element.items():\n",
    "                list2.append(key)\n",
    "                if (type(value)==list or type(value)==tuple):\n",
    "                    for j in value:\n",
    "                        list2.append(j)\n",
    "                else:\n",
    "                    list2.append(value)\n",
    "        else:\n",
    "            list2.append(element)\n",
    "\n",
    "    mul_no=1\n",
    "    for num in list2:\n",
    "        if type(num)==int:\n",
    "            mul_no=mul_no*num\n",
    "    return mul_no\n"
   ]
  },
  {
   "cell_type": "code",
   "execution_count": 34,
   "id": "940b80c0-a415-45f1-a523-24d837213493",
   "metadata": {},
   "outputs": [
    {
     "data": {
      "text/plain": [
       "4134711838987085478833841242112000"
      ]
     },
     "execution_count": 34,
     "metadata": {},
     "output_type": "execute_result"
    }
   ],
   "source": [
    "Multiplication_of_numbers(list1)"
   ]
  },
  {
   "cell_type": "markdown",
   "id": "93aa0e57-e6b4-4da4-9957-a58f1a955b87",
   "metadata": {},
   "source": [
    "#### Q2. Write a python program for encrypting a message sent to you by your friend. The logic of encryption\n",
    "#### should be such that, for a the output should be z. For b, the output should be y. For c, the output should\n",
    "#### be x respectively. Also, the whitespace should be replaced with a dollar sign. Keep the punctuation marks unchanged.\n",
    "\n",
    "\n",
    "Input Sentence: I want to become a Data Scientist.\n",
    "\n",
    "\n",
    "Encrypt the above input sentence using the program you just created.\n",
    "\n",
    "\n",
    "Note: Convert the given input sentence into lowercase before encrypting. The final output should be\n",
    "lowercase."
   ]
  },
  {
   "cell_type": "code",
   "execution_count": null,
   "id": "5c934a5b-cb35-4f3a-9bdc-22b8a271766f",
   "metadata": {},
   "outputs": [],
   "source": []
  },
  {
   "cell_type": "code",
   "execution_count": 90,
   "id": "3bb5b936-939a-4d73-9b94-6ecace2beb2d",
   "metadata": {},
   "outputs": [],
   "source": [
    "chr_fun=lambda x:chr(x)"
   ]
  },
  {
   "cell_type": "code",
   "execution_count": 91,
   "id": "f776c2d7-7c00-40a0-8eec-4eb6b6a81a55",
   "metadata": {},
   "outputs": [],
   "source": [
    "l2=[i for i in range(97,123)]"
   ]
  },
  {
   "cell_type": "code",
   "execution_count": 93,
   "id": "fc51f0c8-03ea-4fcd-8ddb-16db2893dd5f",
   "metadata": {},
   "outputs": [],
   "source": [
    "chr_list=list(map(chr_fun,l2))"
   ]
  },
  {
   "cell_type": "code",
   "execution_count": 95,
   "id": "2d311acc-75b2-4cb6-9f5e-10d5b362651a",
   "metadata": {},
   "outputs": [
    {
     "name": "stdout",
     "output_type": "stream",
     "text": [
      "['a', 'b', 'c', 'd', 'e', 'f', 'g', 'h', 'i', 'j', 'k', 'l', 'm', 'n', 'o', 'p', 'q', 'r', 's', 't', 'u', 'v', 'w', 'x', 'y', 'z']\n"
     ]
    }
   ],
   "source": [
    "print(chr_list)"
   ]
  },
  {
   "cell_type": "code",
   "execution_count": 97,
   "id": "b2cb3d4a-4d53-4116-8391-90427afba83c",
   "metadata": {},
   "outputs": [],
   "source": [
    "string_new=\"my name is abhishek\""
   ]
  },
  {
   "cell_type": "code",
   "execution_count": 98,
   "id": "ff233157-50f7-436f-b528-eccb8c0cb681",
   "metadata": {},
   "outputs": [],
   "source": [
    "b_string=''"
   ]
  },
  {
   "cell_type": "code",
   "execution_count": 130,
   "id": "0e0da95d-5973-4992-b740-f1a2c87daaf8",
   "metadata": {},
   "outputs": [],
   "source": [
    "def encrypted_message(string_new):\n",
    "    string_new=string_new.lower()\n",
    "    b_string=''\n",
    "    for chr1 in string_new:\n",
    "        x=0\n",
    "        if chr1==' ':\n",
    "            b_string=b_string+'$'\n",
    "        else:\n",
    "            for  chr2 in chr_list:\n",
    "\n",
    "                if chr1==chr2:\n",
    "                    print(chr2)\n",
    "                    #print(\"index of {} is {}\".format(chr2,x))\n",
    "                    b_string=b_string+chr_list[-1-(x)]\n",
    "           \n",
    "                x=x+1\n",
    "    print(\"\\n Encrytped string is {}\".format(b_string))"
   ]
  },
  {
   "cell_type": "code",
   "execution_count": 131,
   "id": "242cd3c1-595a-4862-a268-8f661914453c",
   "metadata": {},
   "outputs": [],
   "source": [
    "Input_Sentence=\"I want to become a Data Scientist\""
   ]
  },
  {
   "cell_type": "code",
   "execution_count": 132,
   "id": "5d224c8b-d0e1-4976-833d-0cdc20bd24fe",
   "metadata": {},
   "outputs": [
    {
     "name": "stdout",
     "output_type": "stream",
     "text": [
      "i\n",
      "w\n",
      "a\n",
      "n\n",
      "t\n",
      "t\n",
      "o\n",
      "b\n",
      "e\n",
      "c\n",
      "o\n",
      "m\n",
      "e\n",
      "a\n",
      "d\n",
      "a\n",
      "t\n",
      "a\n",
      "s\n",
      "c\n",
      "i\n",
      "e\n",
      "n\n",
      "t\n",
      "i\n",
      "s\n",
      "t\n",
      "\n",
      " Encrytped string is r$dzmg$gl$yvxlnv$z$wzgz$hxrvmgrhg\n"
     ]
    }
   ],
   "source": [
    "encrypted_message(Input_Sentence)"
   ]
  },
  {
   "cell_type": "code",
   "execution_count": null,
   "id": "c1e1fa54-0463-49b8-8579-5089494dfce2",
   "metadata": {},
   "outputs": [],
   "source": []
  }
 ],
 "metadata": {
  "kernelspec": {
   "display_name": "Python 3 (ipykernel)",
   "language": "python",
   "name": "python3"
  },
  "language_info": {
   "codemirror_mode": {
    "name": "ipython",
    "version": 3
   },
   "file_extension": ".py",
   "mimetype": "text/x-python",
   "name": "python",
   "nbconvert_exporter": "python",
   "pygments_lexer": "ipython3",
   "version": "3.10.8"
  }
 },
 "nbformat": 4,
 "nbformat_minor": 5
}
