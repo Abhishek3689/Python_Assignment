{
 "cells": [
  {
   "cell_type": "markdown",
   "id": "4f724e11-c1b9-4f8b-8ef0-09d6a2bb5df0",
   "metadata": {},
   "source": [
    "Q1.What is exception in python? Write the difference between Exception and syntax error"
   ]
  },
  {
   "cell_type": "code",
   "execution_count": 1,
   "id": "69f21c98-d64b-4e3b-901b-93d9484c6b2b",
   "metadata": {},
   "outputs": [],
   "source": [
    "## Errors detected during execution are called exceptions and are not unconditionally fatal.\n",
    "## It is a condition that interrupts the normal flow of program but it completes the task "
   ]
  },
  {
   "cell_type": "code",
   "execution_count": 2,
   "id": "f777e696-7925-4c60-afff-6135163e8fc7",
   "metadata": {},
   "outputs": [],
   "source": [
    "## A syntax error occurs when the structure of a program does not conform to the rules of the programming language. Syntax errors are usually detected by the compiler or interpreter \n",
    "## when the program is being compiled or executed, and they prevent the program from running while exception allows program to continue running."
   ]
  },
  {
   "cell_type": "markdown",
   "id": "846abe27-fa2b-48ac-8870-f38abdb5b3b6",
   "metadata": {},
   "source": [
    "Q2. What happens when exception is not handled? Explain with Example."
   ]
  },
  {
   "cell_type": "code",
   "execution_count": 3,
   "id": "14950652-20d2-4459-a247-03189727dd61",
   "metadata": {},
   "outputs": [],
   "source": [
    "## A Python program terminates as soon as it encounters an error ,.\n",
    "##  the program abruptly terminates on encountering an exception, it may cause damage to system resources, such as files.\n",
    "## Hence, the exceptions should be properly handled so that an abrupt termination of the program is prevented."
   ]
  },
  {
   "cell_type": "code",
   "execution_count": 4,
   "id": "19d2b441-511e-494b-91ea-5bb545518fb2",
   "metadata": {},
   "outputs": [
    {
     "name": "stdout",
     "output_type": "stream",
     "text": [
      "Error is division by zero\n"
     ]
    }
   ],
   "source": [
    "try:\n",
    "    a=5\n",
    "    b=0\n",
    "    print(a/0)\n",
    "except Exception as e:\n",
    "    print(\"Error is {}\".format(e))\n",
    "    "
   ]
  },
  {
   "cell_type": "markdown",
   "id": "73cc5254-1aa2-4a95-8234-0b64ce9f6e09",
   "metadata": {},
   "source": [
    "Q3.Which python statements are used to catch and handle exception? Explain with Example"
   ]
  },
  {
   "cell_type": "code",
   "execution_count": 5,
   "id": "f7b3eb7e-aef9-49d2-8f7e-0b6ccbf4cb7c",
   "metadata": {},
   "outputs": [],
   "source": [
    "### try and except are used to handle exception "
   ]
  },
  {
   "cell_type": "code",
   "execution_count": 6,
   "id": "bd266c75-f4e9-469c-985e-4eec65e1e667",
   "metadata": {},
   "outputs": [
    {
     "name": "stdout",
     "output_type": "stream",
     "text": [
      "Something went wrong : can only concatenate str (not \"int\") to str\n"
     ]
    }
   ],
   "source": [
    "try:\n",
    "    a='rahul'\n",
    "    b=5\n",
    "    print(a+b)\n",
    "except Exception as e:\n",
    "    print(\"Something went wrong : {}\".format(e))"
   ]
  },
  {
   "cell_type": "markdown",
   "id": "82a1effc-21bb-45c0-b0e1-af16b5494174",
   "metadata": {},
   "source": [
    "Q4. Explain with Example\n",
    "- try and else\n",
    "- finally\n",
    "- raise"
   ]
  },
  {
   "cell_type": "code",
   "execution_count": 7,
   "id": "98a6063c-6767-47fa-baf6-dff2f13b0e3a",
   "metadata": {},
   "outputs": [],
   "source": [
    "## try and else: else will only run if try block is executed without any exception"
   ]
  },
  {
   "cell_type": "code",
   "execution_count": 8,
   "id": "2398471d-f40b-4554-8c48-900eac19631d",
   "metadata": {},
   "outputs": [
    {
     "name": "stdout",
     "output_type": "stream",
     "text": [
      "2.0\n",
      "Try runs Succesfully\n"
     ]
    }
   ],
   "source": [
    "try:\n",
    "    a=10\n",
    "    b=5\n",
    "    print(a/b)\n",
    "except Exception as e:\n",
    "    print(e)\n",
    "else:\n",
    "    print(\"Try runs Succesfully\")"
   ]
  },
  {
   "cell_type": "code",
   "execution_count": 9,
   "id": "70ddfbee-b7ab-47bc-b7aa-2bc0abfb6e3c",
   "metadata": {},
   "outputs": [],
   "source": [
    "## finally : this statement always runs so ,no matter if the try block raises an error or not"
   ]
  },
  {
   "cell_type": "code",
   "execution_count": 10,
   "id": "2c76fd88-14f7-4141-acc9-e9b82352b129",
   "metadata": {},
   "outputs": [
    {
     "name": "stdout",
     "output_type": "stream",
     "text": [
      "Description of Error :division by zero\n",
      "This is the end of program\n"
     ]
    }
   ],
   "source": [
    "try:\n",
    "    a=5\n",
    "    print(a/0)\n",
    "except Exception as e:\n",
    "    print(f\"Description of Error :{e}\")\n",
    "else:\n",
    "    print(\"Successful Try \")\n",
    "finally:\n",
    "    print(\"This is the end of program\")"
   ]
  },
  {
   "cell_type": "code",
   "execution_count": 11,
   "id": "f163d312-8a18-4f33-8c1c-a44c73b48133",
   "metadata": {},
   "outputs": [],
   "source": [
    "## Raise: The raise keyword is used to raise an exception"
   ]
  },
  {
   "cell_type": "code",
   "execution_count": 12,
   "id": "06abe09e-9867-4efd-931a-15f72b4ddc8b",
   "metadata": {},
   "outputs": [
    {
     "ename": "TypeError",
     "evalue": "Only integers are allowed",
     "output_type": "error",
     "traceback": [
      "\u001b[0;31m---------------------------------------------------------------------------\u001b[0m",
      "\u001b[0;31mTypeError\u001b[0m                                 Traceback (most recent call last)",
      "Cell \u001b[0;32mIn[12], line 4\u001b[0m\n\u001b[1;32m      1\u001b[0m x \u001b[38;5;241m=\u001b[39m \u001b[38;5;124m\"\u001b[39m\u001b[38;5;124mhello\u001b[39m\u001b[38;5;124m\"\u001b[39m\n\u001b[1;32m      3\u001b[0m \u001b[38;5;28;01mif\u001b[39;00m \u001b[38;5;129;01mnot\u001b[39;00m \u001b[38;5;28mtype\u001b[39m(x) \u001b[38;5;129;01mis\u001b[39;00m \u001b[38;5;28mint\u001b[39m:\n\u001b[0;32m----> 4\u001b[0m   \u001b[38;5;28;01mraise\u001b[39;00m \u001b[38;5;167;01mTypeError\u001b[39;00m(\u001b[38;5;124m\"\u001b[39m\u001b[38;5;124mOnly integers are allowed\u001b[39m\u001b[38;5;124m\"\u001b[39m)\n",
      "\u001b[0;31mTypeError\u001b[0m: Only integers are allowed"
     ]
    }
   ],
   "source": [
    "x = \"hello\"\n",
    "\n",
    "if not type(x) is int:\n",
    "  raise TypeError(\"Only integers are allowed\")"
   ]
  },
  {
   "cell_type": "markdown",
   "id": "8cf65e7d-ceae-422e-9bf1-291184397c38",
   "metadata": {},
   "source": [
    "Q5. Wat are custom exceptions in python? why do we need custom Exception ? Explain with Example."
   ]
  },
  {
   "cell_type": "code",
   "execution_count": 13,
   "id": "a83cd77d-7ea6-4829-8032-2d26d04836c7",
   "metadata": {},
   "outputs": [],
   "source": [
    "## Sometimes based on project requirement, we needs to create our own exceptions and raise explicitly for corresponding scenarios. \n",
    "## Such types of exceptions are called customized Exceptions or Programmatic Exception."
   ]
  },
  {
   "cell_type": "code",
   "execution_count": 14,
   "id": "2fe2fbd4-fe85-442c-8f47-8232b0572075",
   "metadata": {},
   "outputs": [],
   "source": [
    "### For Example for a given subject marks range between 0 and 100 , so if entered marks below 0 and above 100 should raise a custom exception.\n",
    "## for below 0 exception \"Marks Should not be smaller than 0\" \n",
    "## for above 100 exception \"Marks should not be greater than 100\" \n"
   ]
  },
  {
   "cell_type": "markdown",
   "id": "9f33e848-ddfc-48e7-852e-99bcbb9dc318",
   "metadata": {},
   "source": [
    "Q6. Create a Custom Exception class. Use this class to handle exception"
   ]
  },
  {
   "cell_type": "code",
   "execution_count": 15,
   "id": "f2f7a648-b99f-4ab2-aeed-36928e9e42f1",
   "metadata": {},
   "outputs": [],
   "source": [
    "class validatemarks(Exception):\n",
    "    def __init__(self,msg):\n",
    "        self.msg=msg"
   ]
  },
  {
   "cell_type": "code",
   "execution_count": 16,
   "id": "00f09795-b65d-401b-a0ac-08ac8b2be4c2",
   "metadata": {},
   "outputs": [],
   "source": [
    "def validate_marks(marks):\n",
    "    if marks<0:\n",
    "        raise validatemarks(\"Marks Should not be smaller than 0\")\n",
    "    elif marks>100:\n",
    "        raise validatemarks(\"Marks should not be greater than 100\")\n",
    "    else:\n",
    "        print(\"Marks is Validated\")"
   ]
  },
  {
   "cell_type": "code",
   "execution_count": 17,
   "id": "dbe6c87a-47e2-4ea5-bb2a-4ced484fbab5",
   "metadata": {},
   "outputs": [
    {
     "name": "stdin",
     "output_type": "stream",
     "text": [
      "Enter marks:  -3\n"
     ]
    },
    {
     "name": "stdout",
     "output_type": "stream",
     "text": [
      "Marks Should not be smaller than 0\n"
     ]
    }
   ],
   "source": [
    "try:\n",
    "    marks=int(input(\"Enter marks: \"))\n",
    "    validate_marks(marks)\n",
    "except validatemarks as e:\n",
    "    print(e)"
   ]
  },
  {
   "cell_type": "code",
   "execution_count": null,
   "id": "8300edf0-f09f-47e3-bef2-8eb0f7593985",
   "metadata": {},
   "outputs": [],
   "source": []
  }
 ],
 "metadata": {
  "kernelspec": {
   "display_name": "Python 3 (ipykernel)",
   "language": "python",
   "name": "python3"
  },
  "language_info": {
   "codemirror_mode": {
    "name": "ipython",
    "version": 3
   },
   "file_extension": ".py",
   "mimetype": "text/x-python",
   "name": "python",
   "nbconvert_exporter": "python",
   "pygments_lexer": "ipython3",
   "version": "3.10.8"
  }
 },
 "nbformat": 4,
 "nbformat_minor": 5
}
