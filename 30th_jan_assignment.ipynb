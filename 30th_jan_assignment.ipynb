{
 "cells": [
  {
   "cell_type": "markdown",
   "id": "83b4ca89-a2dd-4514-9b14-270cccf72ecd",
   "metadata": {},
   "source": [
    "### 1.Accept percentage from user and display grades"
   ]
  },
  {
   "cell_type": "code",
   "execution_count": 10,
   "id": "1d8073ee-cd8b-4190-bbd1-edfaf3f901b3",
   "metadata": {},
   "outputs": [
    {
     "name": "stdin",
     "output_type": "stream",
     "text": [
      "Enter marks between 0 to 100 :  76\n"
     ]
    },
    {
     "name": "stdout",
     "output_type": "stream",
     "text": [
      "Grade for 76 marks is C\n"
     ]
    }
   ],
   "source": [
    "marks=int(input(\"Enter marks between 0 to 100 : \"))\n",
    "if marks>90:\n",
    "    print(\"Grade for {} marks is A\".format(marks))\n",
    "elif (marks>80 and marks<=90):\n",
    "    print(\"Grade for {} marks is B\".format(marks))\n",
    "elif (marks>=60 and marks<=80):\n",
    "    print(\"Grade for {} marks is C\".format(marks))\n",
    "elif marks<60:\n",
    "    print(\"Grade for {} marks is D\".format(marks))\n",
    "else:\n",
    "    print(\"Please enter valid marks\")"
   ]
  },
  {
   "cell_type": "markdown",
   "id": "0912d05b-70d1-4409-81d7-171a4cd88ea5",
   "metadata": {},
   "source": [
    "### 2.Accept the cost price of a bike and road tax to be paid"
   ]
  },
  {
   "cell_type": "code",
   "execution_count": 4,
   "id": "d471a398-8916-4054-a0d3-e866d9c773e3",
   "metadata": {},
   "outputs": [
    {
     "name": "stdin",
     "output_type": "stream",
     "text": [
      "Enter the value of a bike:  10000\n"
     ]
    },
    {
     "name": "stdout",
     "output_type": "stream",
     "text": [
      "Road tax to be paid is  500.0\n"
     ]
    }
   ],
   "source": [
    "price=float(input(\"Enter the value of a bike: \"))\n",
    "if price>100000:\n",
    "    print(\"Road tax to be paid is \",price*.15)\n",
    "elif (price<=100000 and price>50000):\n",
    "    print(\"Road tax to be paid is \",price*.10)\n",
    "else:\n",
    "    print(\"Road tax to be paid is \",price*.05)"
   ]
  },
  {
   "cell_type": "markdown",
   "id": "a259ff62-1c8c-4977-898a-5691d26e6c25",
   "metadata": {},
   "source": [
    "### 3.Accept any city and display monuments of that city"
   ]
  },
  {
   "cell_type": "code",
   "execution_count": 16,
   "id": "be09a948-e704-4f3b-b9ae-33831a9ade2d",
   "metadata": {},
   "outputs": [
    {
     "name": "stdin",
     "output_type": "stream",
     "text": [
      "Enter the city to display monuments:  Agra\n"
     ]
    },
    {
     "name": "stdout",
     "output_type": "stream",
     "text": [
      "Monument in AGRA is Taj Mahal\n"
     ]
    }
   ],
   "source": [
    "city=input(\"Enter the city to display monuments: \")\n",
    "city=city.upper()\n",
    "if city==\"DELHI\":\n",
    "    print(f\"Monument in {city} is Red Fort\")\n",
    "elif city==\"AGRA\":\n",
    "    print(f\"Monument in {city} is Taj Mahal\")\n",
    "elif city==\"JAIPUR\":\n",
    "    print(f\"Monument in {city} is Jal Mahal\")\n",
    "else:\n",
    "    print(\"Enter valid city\")"
   ]
  },
  {
   "cell_type": "markdown",
   "id": "d0ae7145-30da-405a-8501-88dd556368a9",
   "metadata": {},
   "source": [
    "### 4.Check how many times a given number can be divided by 3 before it is less than or equal to 10"
   ]
  },
  {
   "cell_type": "code",
   "execution_count": 18,
   "id": "eb83f633-e79b-4627-874b-689408473c16",
   "metadata": {},
   "outputs": [],
   "source": [
    "def count_division(num):\n",
    "    cnt=0\n",
    "    while(num>=10):\n",
    "        num/=3\n",
    "        cnt=cnt+1\n",
    "    print(cnt)"
   ]
  },
  {
   "cell_type": "code",
   "execution_count": 22,
   "id": "5e0350df-0fd3-4c8a-916c-697f19b79c1f",
   "metadata": {},
   "outputs": [
    {
     "name": "stdout",
     "output_type": "stream",
     "text": [
      "3\n"
     ]
    }
   ],
   "source": [
    "count_division(111)"
   ]
  },
  {
   "cell_type": "markdown",
   "id": "c617f5d1-5101-4cfb-b9f1-e3a2c4fe2088",
   "metadata": {},
   "source": [
    "### 5.Why and when to use while loop in Python"
   ]
  },
  {
   "cell_type": "markdown",
   "id": "8851f0ec-7421-4a8b-aa96-df0993475653",
   "metadata": {},
   "source": [
    "##### while loop is used to print a block of code/statments repeatedly until the condition is true, It helps\n",
    "##### to avoid writing big lines of code . Is used for particular sequence"
   ]
  },
  {
   "cell_type": "code",
   "execution_count": 23,
   "id": "87597c23-024c-4331-8066-c5feae0532f0",
   "metadata": {},
   "outputs": [],
   "source": [
    "# while loop to print even number from 1 to 100,when I becomes greater than 100 the condtion is false and will come out of loop"
   ]
  },
  {
   "cell_type": "code",
   "execution_count": 24,
   "id": "6d315469-50d2-402f-990a-37c5a0869c60",
   "metadata": {},
   "outputs": [
    {
     "name": "stdout",
     "output_type": "stream",
     "text": [
      "2 4 6 8 10 12 14 16 18 20 22 24 26 28 30 32 34 36 38 40 42 44 46 48 50 52 54 56 58 60 62 64 66 68 70 72 74 76 78 80 82 84 86 88 90 92 94 96 98 100 "
     ]
    }
   ],
   "source": [
    "i=2\n",
    "while (i<=100):\n",
    "    print(i,end=\" \")\n",
    "    i+=2"
   ]
  },
  {
   "cell_type": "markdown",
   "id": "a98094bd-2970-4278-931e-772ff58adf41",
   "metadata": {},
   "source": [
    "### 6. Use nested while loop to print 3 different patterns"
   ]
  },
  {
   "cell_type": "code",
   "execution_count": 27,
   "id": "38079af6-bffc-4f23-a727-4ea75fb03415",
   "metadata": {},
   "outputs": [
    {
     "name": "stdout",
     "output_type": "stream",
     "text": [
      "* \n",
      "* * \n",
      "* * * \n",
      "* * * * \n",
      "* * * * * \n",
      "* * * * * * \n",
      "* * * * * * * \n",
      "* * * * * * * * \n",
      "* * * * * * * * * \n"
     ]
    }
   ],
   "source": [
    "for i in range(1,10):\n",
    "    for j in range(i):\n",
    "        print(\"*\",end=' ')\n",
    "    print('\\r')"
   ]
  },
  {
   "cell_type": "code",
   "execution_count": 30,
   "id": "b9dee1e9-75c6-4761-93bb-7d71c7b6e571",
   "metadata": {},
   "outputs": [
    {
     "name": "stdout",
     "output_type": "stream",
     "text": [
      "* * * * * * * * * * \n",
      "* * * * * * * * * \n",
      "* * * * * * * * \n",
      "* * * * * * * \n",
      "* * * * * * \n",
      "* * * * * \n",
      "* * * * \n",
      "* * * \n",
      "* * \n",
      "* \n"
     ]
    }
   ],
   "source": [
    "for i in range(10,0,-1):\n",
    "    for j in range(i):\n",
    "        print(\"*\",end=\" \")\n",
    "    print('\\r')"
   ]
  },
  {
   "cell_type": "code",
   "execution_count": 37,
   "id": "267ee91b-d589-473c-ab47-b971c8025663",
   "metadata": {},
   "outputs": [
    {
     "name": "stdout",
     "output_type": "stream",
     "text": [
      "         * \n",
      "        * * \n",
      "       * * * \n",
      "      * * * * \n",
      "     * * * * * \n",
      "    * * * * * * \n",
      "   * * * * * * * \n",
      "  * * * * * * * * \n",
      " * * * * * * * * * \n"
     ]
    }
   ],
   "source": [
    "k=9\n",
    "for i in range(1,10):\n",
    "    for j in range(0,k):\n",
    "        print(end=\" \")\n",
    "    k=k-1\n",
    "    for j in range(0,i):\n",
    "        print(\"*\",end=\" \")\n",
    "    \n",
    "    print('\\r')"
   ]
  },
  {
   "cell_type": "markdown",
   "id": "070300e0-b87b-4f6e-8bfb-57cc4bf2f20d",
   "metadata": {},
   "source": [
    "### 7. Reverse a while loop to display number for 10 to 1"
   ]
  },
  {
   "cell_type": "code",
   "execution_count": 2,
   "id": "e79e6b66-7397-498f-b55e-a5c8929b6e87",
   "metadata": {},
   "outputs": [
    {
     "name": "stdout",
     "output_type": "stream",
     "text": [
      "10\n",
      "9\n",
      "8\n",
      "7\n",
      "6\n",
      "5\n",
      "4\n",
      "3\n",
      "2\n",
      "1\n"
     ]
    }
   ],
   "source": [
    "i=10\n",
    "while(i>=1):\n",
    "    print(i)\n",
    "    i=i-1"
   ]
  },
  {
   "cell_type": "markdown",
   "id": "c4aca868-334a-4efb-b7ed-3f7082530e81",
   "metadata": {},
   "source": [
    "### 8.Reverse a while loop to display number from 10 to 1"
   ]
  },
  {
   "cell_type": "code",
   "execution_count": 17,
   "id": "0017ef39-40e6-4b30-a187-764d4fc84f5b",
   "metadata": {},
   "outputs": [],
   "source": [
    "def reverse_number(num):\n",
    "    while(num>0):\n",
    "        print(num)\n",
    "        num-=1"
   ]
  },
  {
   "cell_type": "code",
   "execution_count": 18,
   "id": "aa1ebe18-fc0d-4c75-bbec-9288135805ae",
   "metadata": {},
   "outputs": [
    {
     "name": "stdout",
     "output_type": "stream",
     "text": [
      "10\n",
      "9\n",
      "8\n",
      "7\n",
      "6\n",
      "5\n",
      "4\n",
      "3\n",
      "2\n",
      "1\n"
     ]
    }
   ],
   "source": [
    "reverse_number(10)"
   ]
  },
  {
   "cell_type": "code",
   "execution_count": null,
   "id": "a50a9185-ff93-4580-aec0-a3e90397fa00",
   "metadata": {},
   "outputs": [],
   "source": []
  }
 ],
 "metadata": {
  "kernelspec": {
   "display_name": "Python 3 (ipykernel)",
   "language": "python",
   "name": "python3"
  },
  "language_info": {
   "codemirror_mode": {
    "name": "ipython",
    "version": 3
   },
   "file_extension": ".py",
   "mimetype": "text/x-python",
   "name": "python",
   "nbconvert_exporter": "python",
   "pygments_lexer": "ipython3",
   "version": "3.10.8"
  },
  "toc-showtags": false
 },
 "nbformat": 4,
 "nbformat_minor": 5
}
