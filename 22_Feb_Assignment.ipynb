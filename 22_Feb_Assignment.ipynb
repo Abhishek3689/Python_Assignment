{
 "cells": [
  {
   "cell_type": "markdown",
   "id": "b11893f4-5b1b-4638-b5f9-f070e8ad9647",
   "metadata": {},
   "source": [
    "#### Q1. Create a Pandas Series that contains the following data: 4, 8, 15, 16, 23, and 42. Then, print the series."
   ]
  },
  {
   "cell_type": "code",
   "execution_count": 1,
   "id": "0ddfc97c-b1de-4124-936e-61908f39ac70",
   "metadata": {},
   "outputs": [],
   "source": [
    "import pandas as pd"
   ]
  },
  {
   "cell_type": "code",
   "execution_count": 2,
   "id": "7823f1cf-7762-4bf7-8a2a-fb69a52f1ce3",
   "metadata": {},
   "outputs": [],
   "source": [
    "Series1=pd.Series(data=[4,8,15,16,23,42])"
   ]
  },
  {
   "cell_type": "code",
   "execution_count": 3,
   "id": "a091aec3-f8f8-48da-b2ac-a19bf25bec51",
   "metadata": {},
   "outputs": [
    {
     "data": {
      "text/plain": [
       "0     4\n",
       "1     8\n",
       "2    15\n",
       "3    16\n",
       "4    23\n",
       "5    42\n",
       "dtype: int64"
      ]
     },
     "execution_count": 3,
     "metadata": {},
     "output_type": "execute_result"
    }
   ],
   "source": [
    "Series1"
   ]
  },
  {
   "cell_type": "markdown",
   "id": "f550366f-031d-4456-a856-cf6d691e259c",
   "metadata": {},
   "source": [
    "#### Q2. Create a variable of list type containing 10 elements in it, and apply pandas.Series function on the\n",
    "#### variable print it."
   ]
  },
  {
   "cell_type": "code",
   "execution_count": 4,
   "id": "8f281553-cc60-4c31-a9fb-864e9620753c",
   "metadata": {},
   "outputs": [],
   "source": [
    "list1=[1,2,[34,\"name\"],\"class\",(36,65),{\"age\":33}]"
   ]
  },
  {
   "cell_type": "code",
   "execution_count": 5,
   "id": "0813d1b9-374e-44bf-820f-d278d998f9c1",
   "metadata": {},
   "outputs": [
    {
     "data": {
      "text/plain": [
       "[1, 2, [34, 'name'], 'class', (36, 65), {'age': 33}]"
      ]
     },
     "execution_count": 5,
     "metadata": {},
     "output_type": "execute_result"
    }
   ],
   "source": [
    "list1"
   ]
  },
  {
   "cell_type": "code",
   "execution_count": 6,
   "id": "69c9b762-c82f-4f30-983c-f1978863bee7",
   "metadata": {},
   "outputs": [],
   "source": [
    "series2=pd.Series(list1)"
   ]
  },
  {
   "cell_type": "code",
   "execution_count": 7,
   "id": "e6276c1a-2694-4ae9-92f4-ebe8489d2d10",
   "metadata": {},
   "outputs": [
    {
     "data": {
      "text/plain": [
       "0              1\n",
       "1              2\n",
       "2     [34, name]\n",
       "3          class\n",
       "4       (36, 65)\n",
       "5    {'age': 33}\n",
       "dtype: object"
      ]
     },
     "execution_count": 7,
     "metadata": {},
     "output_type": "execute_result"
    }
   ],
   "source": [
    "series2"
   ]
  },
  {
   "cell_type": "code",
   "execution_count": 8,
   "id": "da8a95b3-700a-4756-8e88-c91010cd1ef8",
   "metadata": {},
   "outputs": [
    {
     "data": {
      "text/plain": [
       "pandas.core.series.Series"
      ]
     },
     "execution_count": 8,
     "metadata": {},
     "output_type": "execute_result"
    }
   ],
   "source": [
    "type(series2)"
   ]
  },
  {
   "cell_type": "markdown",
   "id": "d2788bc9-4296-42c9-9bf2-18953dfa7f0e",
   "metadata": {},
   "source": [
    "#### Q3. Create a Pandas DataFrame that contains the following data:Then, print the DataFrame."
   ]
  },
  {
   "cell_type": "code",
   "execution_count": 9,
   "id": "09fb11e6-f01f-404e-b39f-2e0c02de44b0",
   "metadata": {},
   "outputs": [],
   "source": [
    "df1=pd.DataFrame({\"Name\":[\"Alice\",\"Bob\",\"Claire\"],\"Age\":[25,30,27],\"Gender\":[\"Female\",\"Male\",\"Female\"]})    "
   ]
  },
  {
   "cell_type": "code",
   "execution_count": 10,
   "id": "5a86efdf-20f2-4574-96f4-513379c84c65",
   "metadata": {},
   "outputs": [
    {
     "data": {
      "text/html": [
       "<div>\n",
       "<style scoped>\n",
       "    .dataframe tbody tr th:only-of-type {\n",
       "        vertical-align: middle;\n",
       "    }\n",
       "\n",
       "    .dataframe tbody tr th {\n",
       "        vertical-align: top;\n",
       "    }\n",
       "\n",
       "    .dataframe thead th {\n",
       "        text-align: right;\n",
       "    }\n",
       "</style>\n",
       "<table border=\"1\" class=\"dataframe\">\n",
       "  <thead>\n",
       "    <tr style=\"text-align: right;\">\n",
       "      <th></th>\n",
       "      <th>Name</th>\n",
       "      <th>Age</th>\n",
       "      <th>Gender</th>\n",
       "    </tr>\n",
       "  </thead>\n",
       "  <tbody>\n",
       "    <tr>\n",
       "      <th>0</th>\n",
       "      <td>Alice</td>\n",
       "      <td>25</td>\n",
       "      <td>Female</td>\n",
       "    </tr>\n",
       "    <tr>\n",
       "      <th>1</th>\n",
       "      <td>Bob</td>\n",
       "      <td>30</td>\n",
       "      <td>Male</td>\n",
       "    </tr>\n",
       "    <tr>\n",
       "      <th>2</th>\n",
       "      <td>Claire</td>\n",
       "      <td>27</td>\n",
       "      <td>Female</td>\n",
       "    </tr>\n",
       "  </tbody>\n",
       "</table>\n",
       "</div>"
      ],
      "text/plain": [
       "     Name  Age  Gender\n",
       "0   Alice   25  Female\n",
       "1     Bob   30    Male\n",
       "2  Claire   27  Female"
      ]
     },
     "execution_count": 10,
     "metadata": {},
     "output_type": "execute_result"
    }
   ],
   "source": [
    "df1"
   ]
  },
  {
   "cell_type": "markdown",
   "id": "a216ed8a-1487-4eaf-9bcc-e05136b70792",
   "metadata": {},
   "source": [
    "#### Q4. What is ‘DataFrame’ in pandas and how is it different from pandas.series? Explain with an example."
   ]
  },
  {
   "cell_type": "code",
   "execution_count": 11,
   "id": "e73d6baf-d76e-44b8-a68c-a08040c386d8",
   "metadata": {},
   "outputs": [],
   "source": [
    "### DataFrame has two dimensional in nature and handle structural data, Like Ecxel having multiple rows and columns.\n",
    "#### It is most widely used in data manipulation. It has many method and function"
   ]
  },
  {
   "cell_type": "code",
   "execution_count": 12,
   "id": "39f67346-3b8f-4e66-93c3-9270b84bf520",
   "metadata": {},
   "outputs": [],
   "source": [
    "#### Series is one dimensional labeled only capable of holding any datatypes "
   ]
  },
  {
   "cell_type": "markdown",
   "id": "2f9b3115-1d10-460b-9b5b-0c28e334d600",
   "metadata": {},
   "source": [
    "#### Q5. What are some common functions you can use to manipulate data in a Pandas DataFrame? Can\n",
    "#### you give an example of when you might use one of these functions?"
   ]
  },
  {
   "cell_type": "markdown",
   "id": "0ee68323-8426-449a-ae47-7b57f7149b27",
   "metadata": {},
   "source": [
    "###### pandas.head(), pandas.tail(), pandas.info(),pandas.read_csv(),pandas.isnull(),pandas.dropna()\n",
    "###### these are the some of the function used for data manipulation"
   ]
  },
  {
   "cell_type": "code",
   "execution_count": 13,
   "id": "9436f75b-b0b4-4515-b418-54743b8ccc32",
   "metadata": {},
   "outputs": [],
   "source": [
    "## From df1 datframe created above"
   ]
  },
  {
   "cell_type": "code",
   "execution_count": 14,
   "id": "6c2cf737-76c9-42c7-94e6-b27b9113144b",
   "metadata": {},
   "outputs": [
    {
     "data": {
      "text/html": [
       "<div>\n",
       "<style scoped>\n",
       "    .dataframe tbody tr th:only-of-type {\n",
       "        vertical-align: middle;\n",
       "    }\n",
       "\n",
       "    .dataframe tbody tr th {\n",
       "        vertical-align: top;\n",
       "    }\n",
       "\n",
       "    .dataframe thead th {\n",
       "        text-align: right;\n",
       "    }\n",
       "</style>\n",
       "<table border=\"1\" class=\"dataframe\">\n",
       "  <thead>\n",
       "    <tr style=\"text-align: right;\">\n",
       "      <th></th>\n",
       "      <th>Name</th>\n",
       "      <th>Age</th>\n",
       "      <th>Gender</th>\n",
       "    </tr>\n",
       "  </thead>\n",
       "  <tbody>\n",
       "    <tr>\n",
       "      <th>0</th>\n",
       "      <td>Alice</td>\n",
       "      <td>25</td>\n",
       "      <td>Female</td>\n",
       "    </tr>\n",
       "    <tr>\n",
       "      <th>1</th>\n",
       "      <td>Bob</td>\n",
       "      <td>30</td>\n",
       "      <td>Male</td>\n",
       "    </tr>\n",
       "  </tbody>\n",
       "</table>\n",
       "</div>"
      ],
      "text/plain": [
       "    Name  Age  Gender\n",
       "0  Alice   25  Female\n",
       "1    Bob   30    Male"
      ]
     },
     "execution_count": 14,
     "metadata": {},
     "output_type": "execute_result"
    }
   ],
   "source": [
    "df1.head(2) ## used to see top 2 rows"
   ]
  },
  {
   "cell_type": "markdown",
   "id": "9c53bee1-1bef-4549-b63e-8cdf8b97d28d",
   "metadata": {},
   "source": [
    "#### Q6. Which of the following is mutable in nature Series, DataFrame, Panel?"
   ]
  },
  {
   "cell_type": "code",
   "execution_count": 15,
   "id": "510076a4-2423-4431-87ae-6ea7f02728b7",
   "metadata": {},
   "outputs": [],
   "source": [
    "### All are mutable in nature "
   ]
  },
  {
   "cell_type": "markdown",
   "id": "e29a8c50-890f-49a7-8f12-4940bd50c3d1",
   "metadata": {},
   "source": [
    "#### Q7. Create a DataFrame using multiple Series. Explain with an example."
   ]
  },
  {
   "cell_type": "code",
   "execution_count": 16,
   "id": "5b25c301-7245-4327-93ff-8208e6f0b4e1",
   "metadata": {},
   "outputs": [],
   "source": [
    "s1=pd.Series([\"Abhishek\",\"Aniket\",\"RAhul\",\"Venkat\"])"
   ]
  },
  {
   "cell_type": "code",
   "execution_count": 17,
   "id": "d2c191e2-1e9e-4a74-8d6d-3a8fdaa402ea",
   "metadata": {},
   "outputs": [
    {
     "data": {
      "text/plain": [
       "0    Abhishek\n",
       "1      Aniket\n",
       "2       RAhul\n",
       "3      Venkat\n",
       "dtype: object"
      ]
     },
     "execution_count": 17,
     "metadata": {},
     "output_type": "execute_result"
    }
   ],
   "source": [
    "s1"
   ]
  },
  {
   "cell_type": "code",
   "execution_count": 18,
   "id": "5e9b7b9e-e5e5-493a-bba0-b39655b51966",
   "metadata": {},
   "outputs": [],
   "source": [
    "s2=pd.Series([33,34,35,32])"
   ]
  },
  {
   "cell_type": "code",
   "execution_count": 19,
   "id": "301fdf3b-abc3-41f9-a52c-07a0dfebaa5e",
   "metadata": {},
   "outputs": [
    {
     "data": {
      "text/plain": [
       "0    33\n",
       "1    34\n",
       "2    35\n",
       "3    32\n",
       "dtype: int64"
      ]
     },
     "execution_count": 19,
     "metadata": {},
     "output_type": "execute_result"
    }
   ],
   "source": [
    "s2"
   ]
  },
  {
   "cell_type": "code",
   "execution_count": 20,
   "id": "0e60f740-0806-4375-88ba-c9d6061501cb",
   "metadata": {},
   "outputs": [],
   "source": [
    "s3=pd.Series([\"Married\",\"Married\",\"Married\",\"Single\"])"
   ]
  },
  {
   "cell_type": "code",
   "execution_count": 21,
   "id": "b989bcf3-1c14-40df-8cf4-0ed3b7ef4ab3",
   "metadata": {},
   "outputs": [
    {
     "data": {
      "text/plain": [
       "0    Married\n",
       "1    Married\n",
       "2    Married\n",
       "3     Single\n",
       "dtype: object"
      ]
     },
     "execution_count": 21,
     "metadata": {},
     "output_type": "execute_result"
    }
   ],
   "source": [
    "s3"
   ]
  },
  {
   "cell_type": "code",
   "execution_count": 22,
   "id": "14adcae4-924d-4cd3-877b-ab82a5aa49d5",
   "metadata": {},
   "outputs": [],
   "source": [
    "df2=pd.concat([s1,s2,s3],axis=1)"
   ]
  },
  {
   "cell_type": "code",
   "execution_count": 23,
   "id": "cb7565ca-2cfe-4cce-956a-b010afd3d067",
   "metadata": {},
   "outputs": [
    {
     "data": {
      "text/html": [
       "<div>\n",
       "<style scoped>\n",
       "    .dataframe tbody tr th:only-of-type {\n",
       "        vertical-align: middle;\n",
       "    }\n",
       "\n",
       "    .dataframe tbody tr th {\n",
       "        vertical-align: top;\n",
       "    }\n",
       "\n",
       "    .dataframe thead th {\n",
       "        text-align: right;\n",
       "    }\n",
       "</style>\n",
       "<table border=\"1\" class=\"dataframe\">\n",
       "  <thead>\n",
       "    <tr style=\"text-align: right;\">\n",
       "      <th></th>\n",
       "      <th>0</th>\n",
       "      <th>1</th>\n",
       "      <th>2</th>\n",
       "    </tr>\n",
       "  </thead>\n",
       "  <tbody>\n",
       "    <tr>\n",
       "      <th>0</th>\n",
       "      <td>Abhishek</td>\n",
       "      <td>33</td>\n",
       "      <td>Married</td>\n",
       "    </tr>\n",
       "    <tr>\n",
       "      <th>1</th>\n",
       "      <td>Aniket</td>\n",
       "      <td>34</td>\n",
       "      <td>Married</td>\n",
       "    </tr>\n",
       "    <tr>\n",
       "      <th>2</th>\n",
       "      <td>RAhul</td>\n",
       "      <td>35</td>\n",
       "      <td>Married</td>\n",
       "    </tr>\n",
       "    <tr>\n",
       "      <th>3</th>\n",
       "      <td>Venkat</td>\n",
       "      <td>32</td>\n",
       "      <td>Single</td>\n",
       "    </tr>\n",
       "  </tbody>\n",
       "</table>\n",
       "</div>"
      ],
      "text/plain": [
       "          0   1        2\n",
       "0  Abhishek  33  Married\n",
       "1    Aniket  34  Married\n",
       "2     RAhul  35  Married\n",
       "3    Venkat  32   Single"
      ]
     },
     "execution_count": 23,
     "metadata": {},
     "output_type": "execute_result"
    }
   ],
   "source": [
    "df2"
   ]
  },
  {
   "cell_type": "code",
   "execution_count": 24,
   "id": "5a4f88ab-06d6-487a-a578-fad576547bb4",
   "metadata": {},
   "outputs": [
    {
     "data": {
      "text/plain": [
       "pandas.core.frame.DataFrame"
      ]
     },
     "execution_count": 24,
     "metadata": {},
     "output_type": "execute_result"
    }
   ],
   "source": [
    "type(df2)"
   ]
  },
  {
   "cell_type": "code",
   "execution_count": null,
   "id": "88a8ac86-e4fc-46b0-a884-ae62272200eb",
   "metadata": {},
   "outputs": [],
   "source": []
  }
 ],
 "metadata": {
  "kernelspec": {
   "display_name": "Python 3 (ipykernel)",
   "language": "python",
   "name": "python3"
  },
  "language_info": {
   "codemirror_mode": {
    "name": "ipython",
    "version": 3
   },
   "file_extension": ".py",
   "mimetype": "text/x-python",
   "name": "python",
   "nbconvert_exporter": "python",
   "pygments_lexer": "ipython3",
   "version": "3.10.8"
  }
 },
 "nbformat": 4,
 "nbformat_minor": 5
}
