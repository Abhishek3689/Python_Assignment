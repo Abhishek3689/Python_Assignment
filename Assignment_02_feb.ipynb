{
 "cells": [
  {
   "cell_type": "markdown",
   "id": "61f4ed85-28a4-4620-bcfe-7ae017e920b8",
   "metadata": {},
   "source": [
    "### 1. what are the characterisitics of Tuples, is tuple mutable"
   ]
  },
  {
   "cell_type": "markdown",
   "id": "3a5a7032-122c-466c-a56e-2666d7d7866f",
   "metadata": {},
   "source": [
    " ######    Tuples are collection/data structure written within  '()' and seperated by comma.Eg -(2,\"tuple\",[1,4,6])"
   ]
  },
  {
   "cell_type": "markdown",
   "id": "ea56aa86-9480-4d2c-9243-196399282cf7",
   "metadata": {},
   "source": [
    "######  Tuples can store multiple datatypes and can be accessed using indexing/slicing."
   ]
  },
  {
   "cell_type": "markdown",
   "id": "3c401201-d87a-4c2a-8b7c-ac058582a0de",
   "metadata": {},
   "source": [
    "######    Tuple is not mutable "
   ]
  },
  {
   "cell_type": "markdown",
   "id": "4edf7e81-e67c-4075-82a9-d7f9f2a65de1",
   "metadata": {},
   "source": [
    "#### 2.  What are the two tuple methods in python? Give an example of each method. Give a reason why\n",
    "#### tuples have only two in-built methods as compared to Lists."
   ]
  },
  {
   "cell_type": "markdown",
   "id": "e40d0128-8cca-45d5-abf0-31a3fa158115",
   "metadata": {},
   "source": [
    "###### Two tuple methoda are count() and index().Since tuples are immutable cannot be changed using indexing so only tow methods"
   ]
  },
  {
   "cell_type": "code",
   "execution_count": 8,
   "id": "8fee6746-6aa4-4a61-9bcd-5f838e2b2599",
   "metadata": {},
   "outputs": [],
   "source": [
    "t1=(1,2,4,3,3)"
   ]
  },
  {
   "cell_type": "code",
   "execution_count": 9,
   "id": "e3fa1d19-889d-4723-a05a-9cb03976aecb",
   "metadata": {},
   "outputs": [
    {
     "data": {
      "text/plain": [
       "2"
      ]
     },
     "execution_count": 9,
     "metadata": {},
     "output_type": "execute_result"
    }
   ],
   "source": [
    "t1.count(3) ## Will give count of 3 in t1"
   ]
  },
  {
   "cell_type": "code",
   "execution_count": 10,
   "id": "42bd53f7-a502-467e-8789-1e0e93248337",
   "metadata": {},
   "outputs": [
    {
     "data": {
      "text/plain": [
       "3"
      ]
     },
     "execution_count": 10,
     "metadata": {},
     "output_type": "execute_result"
    }
   ],
   "source": [
    "t1.index(3) ## Will give the index location of first 3 in 1"
   ]
  },
  {
   "cell_type": "markdown",
   "id": "39d0ab95-0723-4508-93d3-e9c4d5403889",
   "metadata": {},
   "source": [
    "#### 3. Which collection datatypes in python do not allow duplicate items? Write a code using a set to remove\n",
    "#### duplicates from the given list."
   ]
  },
  {
   "cell_type": "markdown",
   "id": "1297f5b2-12fa-4107-96af-ec6420d3fa3c",
   "metadata": {},
   "source": [
    "###### Sets is the datatypes that do not allow duplicate items. They are collection of unique element"
   ]
  },
  {
   "cell_type": "code",
   "execution_count": 19,
   "id": "bf62aa04-a2e1-4ffd-9960-e9c761554521",
   "metadata": {},
   "outputs": [],
   "source": [
    "l1 = [1, 1, 1, 2, 1, 3, 1, 4, 2, 1, 2, 2, 2, 3, 2, 4, 3, 1, 3, 2, 3, 3, 3, 4, 4, 1, 4, 2, 4, 3, 4, 4]"
   ]
  },
  {
   "cell_type": "code",
   "execution_count": 23,
   "id": "209523f7-a042-4f82-aad8-7dde1e3fb17a",
   "metadata": {},
   "outputs": [
    {
     "name": "stdout",
     "output_type": "stream",
     "text": [
      "[1, 1, 1, 2, 1, 3, 1, 4, 2, 1, 2, 2, 2, 3, 2, 4, 3, 1, 3, 2, 3, 3, 3, 4, 4, 1, 4, 2, 4, 3, 4, 4]\n"
     ]
    }
   ],
   "source": [
    "print(l1)"
   ]
  },
  {
   "cell_type": "code",
   "execution_count": 21,
   "id": "d9b1f72e-2b83-49b0-ae65-5820a5b0a54e",
   "metadata": {},
   "outputs": [],
   "source": [
    "s1=set(l1)"
   ]
  },
  {
   "cell_type": "code",
   "execution_count": 22,
   "id": "e1a4e3fe-9b0d-498d-8475-00dda7846ee1",
   "metadata": {},
   "outputs": [
    {
     "data": {
      "text/plain": [
       "{1, 2, 3, 4}"
      ]
     },
     "execution_count": 22,
     "metadata": {},
     "output_type": "execute_result"
    }
   ],
   "source": [
    "s1"
   ]
  },
  {
   "cell_type": "markdown",
   "id": "782bee79-d35d-4bda-86ad-489f753df492",
   "metadata": {},
   "source": [
    "#### 4.  Explain the difference between the union() and update() methods for a set. Give an example of\n",
    "#### each method."
   ]
  },
  {
   "cell_type": "markdown",
   "id": "80c7c13b-6219-4353-85ce-9f3027a3efd2",
   "metadata": {},
   "source": [
    "##### union() is used to combine 2 sets with all elements containing from both sets,\n",
    "##### update() is used to update or add values in one set from another"
   ]
  },
  {
   "cell_type": "code",
   "execution_count": 29,
   "id": "2b341fb4-1be4-474f-8ca1-a34a5f55b9a0",
   "metadata": {},
   "outputs": [],
   "source": [
    "set1={4,6,9,7}\n",
    "set2={11,32,45,67,6}"
   ]
  },
  {
   "cell_type": "code",
   "execution_count": 30,
   "id": "15402c25-8154-4b63-8524-136a3896218b",
   "metadata": {},
   "outputs": [
    {
     "data": {
      "text/plain": [
       "{4, 6, 7, 9}"
      ]
     },
     "execution_count": 30,
     "metadata": {},
     "output_type": "execute_result"
    }
   ],
   "source": [
    "set1"
   ]
  },
  {
   "cell_type": "code",
   "execution_count": 31,
   "id": "ad3cb464-d20f-43b3-bba0-c2ffdad78646",
   "metadata": {},
   "outputs": [
    {
     "data": {
      "text/plain": [
       "{4, 6, 7, 9, 11, 32, 45, 67}"
      ]
     },
     "execution_count": 31,
     "metadata": {},
     "output_type": "execute_result"
    }
   ],
   "source": [
    "set1.union(set2)"
   ]
  },
  {
   "cell_type": "code",
   "execution_count": 32,
   "id": "471286e3-754e-4b5a-9919-4c43d915fc89",
   "metadata": {},
   "outputs": [],
   "source": [
    "set1.update(set2)"
   ]
  },
  {
   "cell_type": "code",
   "execution_count": 33,
   "id": "4fabf9a7-3696-4b45-ba8e-22e05d6a5896",
   "metadata": {},
   "outputs": [
    {
     "data": {
      "text/plain": [
       "{4, 6, 7, 9, 11, 32, 45, 67}"
      ]
     },
     "execution_count": 33,
     "metadata": {},
     "output_type": "execute_result"
    }
   ],
   "source": [
    "set1"
   ]
  },
  {
   "cell_type": "markdown",
   "id": "99ec5b0e-0bbc-402d-bd33-ceab27532746",
   "metadata": {},
   "source": [
    "#### 5. What is a dictionary? Give an example. Also, state whether a dictionary is ordered or unordered."
   ]
  },
  {
   "cell_type": "markdown",
   "id": "670771c4-77a1-4c7a-a3f0-ba245ab454de",
   "metadata": {},
   "source": [
    "###### Dictionary is colletion of items identified using {key:value} pair with curly braces '{}'.\n",
    "###### Dictionary are unordered and mutable can be accessed based on keys but not using index unlike list"
   ]
  },
  {
   "cell_type": "markdown",
   "id": "c6716d5f-afe9-43df-9f5d-42b0aca02e8a",
   "metadata": {},
   "source": [
    "#### 6.  Can we create a nested dictionary? If so, please give an example by creating a simple one-level\n",
    "#### nested dictionary."
   ]
  },
  {
   "cell_type": "markdown",
   "id": "1d00eba5-1e46-4101-b145-70ec6fa89db8",
   "metadata": {},
   "source": [
    "###### Yes we can create a nested dictionary "
   ]
  },
  {
   "cell_type": "code",
   "execution_count": 46,
   "id": "e77ca8c0-4637-4c37-a081-5485376f7ee9",
   "metadata": {},
   "outputs": [],
   "source": [
    "d1={'Roll_no':[11,13],'Name':['Abhishek','Nitesh'],'Subject':{'Abhishek':'Mathematics','Nitesh':'Biology'}}"
   ]
  },
  {
   "cell_type": "code",
   "execution_count": 47,
   "id": "229b002b-c000-4fdf-8f9d-12249b5014ce",
   "metadata": {},
   "outputs": [
    {
     "data": {
      "text/plain": [
       "{'Roll_no': [11, 13],\n",
       " 'Name': ['Abhishek', 'Nitesh'],\n",
       " 'Subject': {'Abhishek': 'Mathematics', 'Nitesh': 'Biology'}}"
      ]
     },
     "execution_count": 47,
     "metadata": {},
     "output_type": "execute_result"
    }
   ],
   "source": [
    "d1"
   ]
  },
  {
   "cell_type": "code",
   "execution_count": 48,
   "id": "bd5827f4-67f4-4d02-9371-0c2f7c83e96f",
   "metadata": {},
   "outputs": [
    {
     "data": {
      "text/plain": [
       "'Mathematics'"
      ]
     },
     "execution_count": 48,
     "metadata": {},
     "output_type": "execute_result"
    }
   ],
   "source": [
    "d1['Subject']['Abhishek']"
   ]
  },
  {
   "cell_type": "code",
   "execution_count": 49,
   "id": "1b0dcb61-fb8a-45c3-b7d0-a02e942f095d",
   "metadata": {},
   "outputs": [],
   "source": [
    "### Above Eg. main dictionary d1 and within that subject is sub-dictionary with subject for either Abhishek/Nitesh"
   ]
  },
  {
   "cell_type": "markdown",
   "id": "0d84b5a2-d7a9-4083-ad01-21c8f9b28e61",
   "metadata": {},
   "source": [
    "#### 7. Using setdefault() method, create key named topics in the given dictionary and also add the value of\n",
    "#### the key as this list ['Python', 'Machine Learning’, 'Deep Learning']"
   ]
  },
  {
   "cell_type": "code",
   "execution_count": 53,
   "id": "9525b5d5-d176-498c-a278-599f38ce6925",
   "metadata": {},
   "outputs": [],
   "source": [
    "dict1 = {'language' : 'Python', 'course': 'Data Science Masters'}"
   ]
  },
  {
   "cell_type": "code",
   "execution_count": 54,
   "id": "1bab4a22-d078-4079-b38d-5b4648ed51c6",
   "metadata": {},
   "outputs": [
    {
     "data": {
      "text/plain": [
       "{'language': 'Python', 'course': 'Data Science Masters'}"
      ]
     },
     "execution_count": 54,
     "metadata": {},
     "output_type": "execute_result"
    }
   ],
   "source": [
    "dict1"
   ]
  },
  {
   "cell_type": "code",
   "execution_count": 56,
   "id": "081d08d5-145b-4ac0-bba4-44a360ef1b71",
   "metadata": {},
   "outputs": [
    {
     "data": {
      "text/plain": [
       "['Python', 'Machine_Learning', 'Deep_Learning']"
      ]
     },
     "execution_count": 56,
     "metadata": {},
     "output_type": "execute_result"
    }
   ],
   "source": [
    "dict1.setdefault('topics',['Python', 'Machine_Learning', 'Deep_Learning'])"
   ]
  },
  {
   "cell_type": "code",
   "execution_count": 57,
   "id": "64080794-c36e-4fcc-ad04-998317d561eb",
   "metadata": {},
   "outputs": [
    {
     "data": {
      "text/plain": [
       "{'language': 'Python',\n",
       " 'course': 'Data Science Masters',\n",
       " 'topics': ['Python', 'Machine_Learning', 'Deep_Learning']}"
      ]
     },
     "execution_count": 57,
     "metadata": {},
     "output_type": "execute_result"
    }
   ],
   "source": [
    "dict1 "
   ]
  },
  {
   "cell_type": "markdown",
   "id": "e9c9b836-e140-4821-bad9-9e59ee363359",
   "metadata": {},
   "source": [
    "#### 8. What are the three view objects in dictionaries? Use the three in-built methods in python to display\n",
    "#### these three view objects for the given dictionary.\n",
    "##### dict1 = {'Sport': 'Cricket' , 'Teams': ['India', 'Australia', 'England', 'South Africa', 'Sri Lanka', 'New Zealand']}"
   ]
  },
  {
   "cell_type": "markdown",
   "id": "4c0d0be1-07f5-416a-9e1d-303fce4b0b32",
   "metadata": {},
   "source": [
    "###### Three view objects are \n",
    "###### a. keys() b.values()  c.  items()"
   ]
  },
  {
   "cell_type": "code",
   "execution_count": 60,
   "id": "3bb9272c-900b-4a0e-97d0-29ce51f7c484",
   "metadata": {},
   "outputs": [],
   "source": [
    "dict1 = {'Sport': 'Cricket' , 'Teams': ['India', 'Australia', 'England', 'South Africa', 'Sri Lanka', 'New Zealand']}"
   ]
  },
  {
   "cell_type": "code",
   "execution_count": 61,
   "id": "abcf8562-2a3d-409f-8c04-8a827e7a34d7",
   "metadata": {},
   "outputs": [
    {
     "data": {
      "text/plain": [
       "{'Sport': 'Cricket',\n",
       " 'Teams': ['India',\n",
       "  'Australia',\n",
       "  'England',\n",
       "  'South Africa',\n",
       "  'Sri Lanka',\n",
       "  'New Zealand']}"
      ]
     },
     "execution_count": 61,
     "metadata": {},
     "output_type": "execute_result"
    }
   ],
   "source": [
    "dict1"
   ]
  },
  {
   "cell_type": "code",
   "execution_count": 65,
   "id": "74b7c030-b349-49ad-8ae0-1be47ea890ce",
   "metadata": {},
   "outputs": [
    {
     "data": {
      "text/plain": [
       "dict_keys(['Sport', 'Teams'])"
      ]
     },
     "execution_count": 65,
     "metadata": {},
     "output_type": "execute_result"
    }
   ],
   "source": [
    "dict1.keys() ### Will fetch all keys in dictionary"
   ]
  },
  {
   "cell_type": "code",
   "execution_count": 66,
   "id": "9ecccb99-4a72-43d8-ab0d-f05b0fc496a0",
   "metadata": {},
   "outputs": [
    {
     "data": {
      "text/plain": [
       "dict_values(['Cricket', ['India', 'Australia', 'England', 'South Africa', 'Sri Lanka', 'New Zealand']])"
      ]
     },
     "execution_count": 66,
     "metadata": {},
     "output_type": "execute_result"
    }
   ],
   "source": [
    "dict1.values() ### will fetch all values in dictionary"
   ]
  },
  {
   "cell_type": "code",
   "execution_count": 67,
   "id": "1fab0635-fbab-49ab-af0e-834c6940304a",
   "metadata": {},
   "outputs": [
    {
     "data": {
      "text/plain": [
       "dict_items([('Sport', 'Cricket'), ('Teams', ['India', 'Australia', 'England', 'South Africa', 'Sri Lanka', 'New Zealand'])])"
      ]
     },
     "execution_count": 67,
     "metadata": {},
     "output_type": "execute_result"
    }
   ],
   "source": [
    "dict1.items() ### will fetch all items (keys and values) from dictionary"
   ]
  },
  {
   "cell_type": "code",
   "execution_count": null,
   "id": "690f1a4c-51b2-48f7-b0b8-f52b56fe57eb",
   "metadata": {},
   "outputs": [],
   "source": []
  }
 ],
 "metadata": {
  "kernelspec": {
   "display_name": "Python 3 (ipykernel)",
   "language": "python",
   "name": "python3"
  },
  "language_info": {
   "codemirror_mode": {
    "name": "ipython",
    "version": 3
   },
   "file_extension": ".py",
   "mimetype": "text/x-python",
   "name": "python",
   "nbconvert_exporter": "python",
   "pygments_lexer": "ipython3",
   "version": "3.10.8"
  }
 },
 "nbformat": 4,
 "nbformat_minor": 5
}
