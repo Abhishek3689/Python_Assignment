{
 "cells": [
  {
   "cell_type": "markdown",
   "id": "8ef15ea1-94d0-4442-bc85-b472e9160108",
   "metadata": {},
   "source": [
    "#### Q1. Which keyword is used to create a function? Create a function to return a list of odd numbers in the\n",
    "#### range of 1 to 25."
   ]
  },
  {
   "cell_type": "markdown",
   "id": "777ccc61-9f97-48ee-9c3c-f52464ad3b2e",
   "metadata": {},
   "source": [
    "###### def keyword is used to create a fucntion"
   ]
  },
  {
   "cell_type": "code",
   "execution_count": 1,
   "id": "60d00ccb-0146-479a-ba2e-0f0d1ad39939",
   "metadata": {},
   "outputs": [],
   "source": [
    "def odd_list(n):\n",
    "    l1=[]\n",
    "    for i in range(n+1):\n",
    "        if i%2!=0:\n",
    "            l1.append(i)\n",
    "            \n",
    "    print(l1)"
   ]
  },
  {
   "cell_type": "code",
   "execution_count": 2,
   "id": "962566d9-8c8a-4078-bde0-0cef2ae09630",
   "metadata": {},
   "outputs": [
    {
     "name": "stdout",
     "output_type": "stream",
     "text": [
      "[1, 3, 5, 7, 9, 11, 13, 15, 17, 19, 21, 23, 25]\n"
     ]
    }
   ],
   "source": [
    "odd_list(25)"
   ]
  },
  {
   "cell_type": "markdown",
   "id": "055cd34a-0bc5-4835-8326-103159817fbc",
   "metadata": {},
   "source": [
    "#### Q2. Why *args and **kwargs is used in some functions? Create a function each for *args and **kwargs to\n",
    "#### demonstrate their use."
   ]
  },
  {
   "cell_type": "markdown",
   "id": "f2288933-ad61-4e8e-a5f4-0dc3baac0774",
   "metadata": {},
   "source": [
    "###### *args is used to give any number of arguments in a function \n",
    "###### *kwargs is used to give any number of (key = value) pair or keywords arguments"
   ]
  },
  {
   "cell_type": "code",
   "execution_count": 3,
   "id": "9684391f-ad1c-4ef0-9058-996723a7120e",
   "metadata": {},
   "outputs": [],
   "source": [
    "def add_fun(*args):\n",
    "    s=0\n",
    "    for i in args:\n",
    "        s=s+i\n",
    "    print(s)"
   ]
  },
  {
   "cell_type": "code",
   "execution_count": 4,
   "id": "d197c7e7-b93e-4836-8b2e-c83d64f2274c",
   "metadata": {},
   "outputs": [
    {
     "name": "stdout",
     "output_type": "stream",
     "text": [
      "21\n"
     ]
    }
   ],
   "source": [
    "add_fun(1,2,3,4,5,6)"
   ]
  },
  {
   "cell_type": "code",
   "execution_count": 5,
   "id": "f8dfb5f4-f208-492d-bfe2-00366e825573",
   "metadata": {},
   "outputs": [],
   "source": [
    "def student_details(**kwargs):\n",
    "    for key,value in kwargs.items():\n",
    "        \n",
    "        print(\"key {} ==value {}\".format(key,value))"
   ]
  },
  {
   "cell_type": "code",
   "execution_count": 6,
   "id": "a1d8cc30-de75-4712-bcf0-57ea837f7e3d",
   "metadata": {},
   "outputs": [
    {
     "name": "stdout",
     "output_type": "stream",
     "text": [
      "key roll_no ==value 1\n",
      "key name ==value Abhishek\n",
      "key Subject ==value Data Science\n"
     ]
    }
   ],
   "source": [
    "student_details(roll_no=1,name='Abhishek',Subject='Data Science')"
   ]
  },
  {
   "cell_type": "code",
   "execution_count": 7,
   "id": "12c8b5d2-e64c-4404-b4b5-6d05cdbc2be3",
   "metadata": {},
   "outputs": [],
   "source": [
    "def stu_det(**kwargs):\n",
    "    return kwargs"
   ]
  },
  {
   "cell_type": "code",
   "execution_count": 8,
   "id": "b00b22ca-e57e-4609-ae5e-edaab8bfffb2",
   "metadata": {},
   "outputs": [
    {
     "data": {
      "text/plain": [
       "{'roll_no': 1, 'name': 'Abhishek', 'Subject': 'Data Science'}"
      ]
     },
     "execution_count": 8,
     "metadata": {},
     "output_type": "execute_result"
    }
   ],
   "source": [
    "stu_det(roll_no=1, name='Abhishek', Subject='Data Science')"
   ]
  },
  {
   "cell_type": "markdown",
   "id": "0d9b3e39-75e3-4312-86f0-c1b2f8994da5",
   "metadata": {},
   "source": [
    "#### Q3.  What is an iterator in python? Name the method used to initialise the iterator object and the method used for\n",
    "#### iteration. Use these methods to print the first five elements of the given list [2, 4, 6, 8, 10, 12, 14, 16,18, 20]."
   ]
  },
  {
   "cell_type": "markdown",
   "id": "ff305cff-1fbd-4714-8beb-d2a703ffe027",
   "metadata": {},
   "source": [
    "###### Iterateor is an object that can be iterated means you can traverse through all values\n",
    "###### List,Tuples,dictionary and sets are iterable objects, and we can use iter() wth next() or for loop to iterate through these"
   ]
  },
  {
   "cell_type": "code",
   "execution_count": 9,
   "id": "e9ea58fa-e1d5-41c9-8a2c-6170be5e91c3",
   "metadata": {},
   "outputs": [],
   "source": [
    "l1=[2, 4, 6, 8, 10, 12, 14, 16,18, 20]"
   ]
  },
  {
   "cell_type": "code",
   "execution_count": 10,
   "id": "e61a0a8b-cf08-4c9c-9a34-454c7103039f",
   "metadata": {},
   "outputs": [],
   "source": [
    "iter1=iter(l1)"
   ]
  },
  {
   "cell_type": "code",
   "execution_count": 11,
   "id": "09c18250-aa91-4a2a-8e6e-129771bb184b",
   "metadata": {},
   "outputs": [
    {
     "name": "stdout",
     "output_type": "stream",
     "text": [
      "2\n"
     ]
    }
   ],
   "source": [
    "print(next(iter1))"
   ]
  },
  {
   "cell_type": "code",
   "execution_count": 12,
   "id": "41f287ef-24f0-4261-ac0e-79a0524a191a",
   "metadata": {},
   "outputs": [
    {
     "name": "stdout",
     "output_type": "stream",
     "text": [
      "4\n"
     ]
    }
   ],
   "source": [
    "print(next(iter1))"
   ]
  },
  {
   "cell_type": "code",
   "execution_count": 13,
   "id": "cc0e31c0-67ae-40d4-bff2-f7826b21d419",
   "metadata": {},
   "outputs": [],
   "source": [
    "### For loop to iterate"
   ]
  },
  {
   "cell_type": "code",
   "execution_count": 14,
   "id": "b3466087-7b6e-4262-973a-a0129e2d09a3",
   "metadata": {},
   "outputs": [
    {
     "name": "stdout",
     "output_type": "stream",
     "text": [
      "2 4 6 8 10 12 14 16 18 20 "
     ]
    }
   ],
   "source": [
    "for i in l1:\n",
    "    print(i,end=' ')"
   ]
  },
  {
   "cell_type": "markdown",
   "id": "212be5cc-fada-4142-b30c-0f03570840cd",
   "metadata": {},
   "source": [
    "#### Q4.  What is a generator function in python? Why yield keyword is used? Give an example of a generator function"
   ]
  },
  {
   "cell_type": "markdown",
   "id": "3e1b57bd-b656-4582-9109-9f1e770aec2c",
   "metadata": {},
   "source": [
    "###### A generator is a special type of function that return a sequence of values with iterator object. It uses yield keyword"
   ]
  },
  {
   "cell_type": "code",
   "execution_count": 15,
   "id": "321fae25-3454-48d8-bee6-f84e6a24b815",
   "metadata": {},
   "outputs": [],
   "source": [
    "def range_generator():\n",
    "    print(\"This is the first item\")\n",
    "    yield 100\n",
    "    print(\"This is the second item\")\n",
    "    yield 200\n",
    "    print(\"This is the third item\")\n",
    "    yield 300"
   ]
  },
  {
   "cell_type": "code",
   "execution_count": 16,
   "id": "823dd40c-1e56-4968-b076-e7970f7c426e",
   "metadata": {},
   "outputs": [],
   "source": [
    "my_range=range_generator()"
   ]
  },
  {
   "cell_type": "code",
   "execution_count": 17,
   "id": "9b7f1c12-25df-4ae5-a312-c5ca1cfe53cc",
   "metadata": {},
   "outputs": [
    {
     "name": "stdout",
     "output_type": "stream",
     "text": [
      "This is the first item\n"
     ]
    },
    {
     "data": {
      "text/plain": [
       "100"
      ]
     },
     "execution_count": 17,
     "metadata": {},
     "output_type": "execute_result"
    }
   ],
   "source": [
    "next(my_range)"
   ]
  },
  {
   "cell_type": "code",
   "execution_count": 18,
   "id": "0c7993e8-6bae-48af-b7af-9c3d5c758a1c",
   "metadata": {},
   "outputs": [
    {
     "name": "stdout",
     "output_type": "stream",
     "text": [
      "This is the second item\n"
     ]
    },
    {
     "data": {
      "text/plain": [
       "200"
      ]
     },
     "execution_count": 18,
     "metadata": {},
     "output_type": "execute_result"
    }
   ],
   "source": [
    "next(my_range)"
   ]
  },
  {
   "cell_type": "code",
   "execution_count": 19,
   "id": "5f029cfb-8553-4a75-b28c-8bbccc158eae",
   "metadata": {},
   "outputs": [
    {
     "name": "stdout",
     "output_type": "stream",
     "text": [
      "This is the third item\n"
     ]
    },
    {
     "data": {
      "text/plain": [
       "300"
      ]
     },
     "execution_count": 19,
     "metadata": {},
     "output_type": "execute_result"
    }
   ],
   "source": [
    "next(my_range)"
   ]
  },
  {
   "cell_type": "markdown",
   "id": "96d0f5aa-805c-4cf4-b78b-100a5b122c7b",
   "metadata": {},
   "source": [
    "#### Q5. Create a generator function for prime numbers less than 1000. Use the next() method to print the first 20 prime numbers\n"
   ]
  },
  {
   "cell_type": "code",
   "execution_count": 20,
   "id": "ce8ec7cb-0d0a-4a44-a620-52e05b56d67f",
   "metadata": {},
   "outputs": [],
   "source": [
    "def prime_no_range(num):\n",
    "    for i in range(2,num+1):\n",
    "        if i==2:\n",
    "            yield i\n",
    "        else:\n",
    "            for j in range(2,i):\n",
    "                if i%j==0:\n",
    "                    break\n",
    "              \n",
    "            if i==(j+1):\n",
    "                yield i"
   ]
  },
  {
   "cell_type": "code",
   "execution_count": 21,
   "id": "95417be7-9d56-48a2-9660-af33730943ac",
   "metadata": {},
   "outputs": [],
   "source": [
    "p_n=prime_no_range(1000)"
   ]
  },
  {
   "cell_type": "code",
   "execution_count": 22,
   "id": "a31ae58b-ac42-4cf7-8fcf-a70dc38c19f1",
   "metadata": {},
   "outputs": [
    {
     "name": "stdout",
     "output_type": "stream",
     "text": [
      "2 3 5 7 11 13 17 19 23 29 31 37 41 43 47 53 59 61 67 71 "
     ]
    }
   ],
   "source": [
    "for i in range(20):\n",
    "    print(next(p_n),end=' ')"
   ]
  },
  {
   "cell_type": "code",
   "execution_count": null,
   "id": "90c8f28f-382d-4d28-9c5b-ef969e65f9b7",
   "metadata": {},
   "outputs": [],
   "source": []
  },
  {
   "cell_type": "code",
   "execution_count": null,
   "id": "689a1eb3-92c6-41b7-9415-4e35880b50b6",
   "metadata": {},
   "outputs": [],
   "source": []
  }
 ],
 "metadata": {
  "kernelspec": {
   "display_name": "Python 3 (ipykernel)",
   "language": "python",
   "name": "python3"
  },
  "language_info": {
   "codemirror_mode": {
    "name": "ipython",
    "version": 3
   },
   "file_extension": ".py",
   "mimetype": "text/x-python",
   "name": "python",
   "nbconvert_exporter": "python",
   "pygments_lexer": "ipython3",
   "version": "3.10.8"
  }
 },
 "nbformat": 4,
 "nbformat_minor": 5
}
