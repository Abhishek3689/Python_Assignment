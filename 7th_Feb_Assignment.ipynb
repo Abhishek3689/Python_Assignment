{
 "cells": [
  {
   "cell_type": "markdown",
   "id": "55ff5880-ff1e-4b23-af3b-c9c1df067180",
   "metadata": {},
   "source": [
    "#### Q1. You are writing code for a company. The requirement of the company is that you create a python\n",
    "#### function that will check whether the password entered by the user is correct or not. The function should\n",
    "#### take the password as input and return the string “Valid Password” if the entered password follows the\n",
    "#### below-given password guidelines else it should return “Invalid Password”.\n",
    "Note: 1. The Password should contain at least two uppercase letters and at least two lowercase letters.\n",
    "2. The Password should contain at least a number and three special characters.\n",
    "3. The length of the password should be 10 characters long."
   ]
  },
  {
   "cell_type": "code",
   "execution_count": 1,
   "id": "4353bd44-37f8-4d2b-9cea-af7a1cc2161b",
   "metadata": {},
   "outputs": [],
   "source": [
    "def Enter_password(s1):\n",
    "    \n",
    "    text=''\n",
    "    spec=''\n",
    "    num_text=''\n",
    "    alph_text=''\n",
    "    for i in s1:\n",
    "        if i.isalnum()==True:\n",
    "            text=text+i\n",
    "            if i.isalpha()==True:\n",
    "                alph_text=alph_text+i\n",
    "            else:\n",
    "                num_text=num_text+i\n",
    "        else:\n",
    "            spec=spec+i\n",
    "    cnt_upper=0\n",
    "    cnt_lower=0\n",
    "    for j in alph_text:\n",
    "        if j.isupper()==True:\n",
    "            cnt_upper=cnt_upper+1\n",
    "        else:\n",
    "            cnt_lower=cnt_lower+1\n",
    "\n",
    "    if ((len(s1)>=10) and (cnt_upper>=2) and (cnt_lower>=2) and (len(num_text)>=1) and (len(spec)>=3))==True:\n",
    "        return \"Valid Password\"\n",
    "    else:\n",
    "        return\"Invalid Password\""
   ]
  },
  {
   "cell_type": "code",
   "execution_count": 2,
   "id": "7fab0bbc-1a5f-4d65-99e3-de9c774c451c",
   "metadata": {},
   "outputs": [
    {
     "name": "stdin",
     "output_type": "stream",
     "text": [
      "Enter password Om$Namo@123#\n"
     ]
    },
    {
     "data": {
      "text/plain": [
       "'Valid Password'"
      ]
     },
     "execution_count": 2,
     "metadata": {},
     "output_type": "execute_result"
    }
   ],
   "source": [
    "s1=input(\"Enter password\")\n",
    "Enter_password(s1)"
   ]
  },
  {
   "cell_type": "markdown",
   "id": "56b0d0db-34af-430f-937a-3b4fc0c4d14e",
   "metadata": {},
   "source": [
    "#### Q2. Solve the below-given questions using at least one of the following:\n",
    "1. Lambda function\n",
    "2. Filter function\n",
    "3. Map function\n",
    "4. List Comprehension\n",
    "###### Check if the string starts with a particular letter\n",
    "###### Check if the string is numeric\n",
    "###### Sort a list of tuples having fruit names and their quantity. [(\"mango\",99),(\"orange\",80), (\"grapes\", 1000)]-\n",
    "###### Find the squares of numbers from 1 to 10\n",
    "###### Find the cube root of numbers from 1 to 10\n",
    "###### Check if a given number is even\n",
    "###### Filter odd numbers from the given list.\n",
    "[1,2,3,4,5,6,7,8,9,10-\n",
    "###### Sort a list of integers into positive and negative integers lists.\n",
    "[1,2,3,4,5,6,-1,-2,-3,-4,-5,0]"
   ]
  },
  {
   "cell_type": "code",
   "execution_count": 3,
   "id": "315f1e40-e6aa-406d-8fb6-2ec964a28267",
   "metadata": {},
   "outputs": [],
   "source": [
    "str_letter=lambda x:x[0].isalpha()"
   ]
  },
  {
   "cell_type": "code",
   "execution_count": 4,
   "id": "266ca0df-b163-4de5-b932-ac069fafe343",
   "metadata": {},
   "outputs": [
    {
     "data": {
      "text/plain": [
       "True"
      ]
     },
     "execution_count": 4,
     "metadata": {},
     "output_type": "execute_result"
    }
   ],
   "source": [
    "str_letter(\"abhi\")"
   ]
  },
  {
   "cell_type": "code",
   "execution_count": 5,
   "id": "8218559a-fccb-4431-bf59-e9b4accb860d",
   "metadata": {},
   "outputs": [
    {
     "data": {
      "text/plain": [
       "False"
      ]
     },
     "execution_count": 5,
     "metadata": {},
     "output_type": "execute_result"
    }
   ],
   "source": [
    "str_letter(\"12df\")"
   ]
  },
  {
   "cell_type": "code",
   "execution_count": 6,
   "id": "51051f72-8528-4909-a082-4737885f5bbf",
   "metadata": {},
   "outputs": [
    {
     "data": {
      "text/plain": [
       "['abhi', 'nis', 's12a']"
      ]
     },
     "execution_count": 6,
     "metadata": {},
     "output_type": "execute_result"
    }
   ],
   "source": [
    "list(filter(lambda x:x[0].isalpha(),[\"abhi\",\"nis\",\"s12a\",\"2neu\"])) ## will filter out results which starts with letter"
   ]
  },
  {
   "cell_type": "code",
   "execution_count": 7,
   "id": "5765f280-9ae3-4606-9612-ab7882149235",
   "metadata": {},
   "outputs": [
    {
     "data": {
      "text/plain": [
       "['567', '892']"
      ]
     },
     "execution_count": 7,
     "metadata": {},
     "output_type": "execute_result"
    }
   ],
   "source": [
    "list(filter(lambda x:x.isnumeric(),[\"abhi\",\"s12a\",\"567\",\"892\"])) ## filter out results which are numeric"
   ]
  },
  {
   "cell_type": "code",
   "execution_count": 8,
   "id": "eb926fa0-4c7a-4e52-8ab1-af034025a829",
   "metadata": {},
   "outputs": [],
   "source": [
    "list1=[(\"mango\",99),(\"orange\",80), (\"grapes\", 1000)]"
   ]
  },
  {
   "cell_type": "code",
   "execution_count": 9,
   "id": "3a162e68-15fc-44dd-9d31-d988ede51935",
   "metadata": {},
   "outputs": [
    {
     "name": "stdout",
     "output_type": "stream",
     "text": [
      "Before sorting list\n"
     ]
    },
    {
     "data": {
      "text/plain": [
       "[('mango', 99), ('orange', 80), ('grapes', 1000)]"
      ]
     },
     "execution_count": 9,
     "metadata": {},
     "output_type": "execute_result"
    }
   ],
   "source": [
    "print(\"Before sorting list\")\n",
    "list1"
   ]
  },
  {
   "cell_type": "code",
   "execution_count": 10,
   "id": "4ec81377-9d51-45d7-acaf-3c7a257f97fd",
   "metadata": {},
   "outputs": [],
   "source": [
    "list1.sort(key=lambda x:x[1])"
   ]
  },
  {
   "cell_type": "code",
   "execution_count": 11,
   "id": "b42f1922-74ff-4844-9f80-139f0691d5af",
   "metadata": {},
   "outputs": [
    {
     "name": "stdout",
     "output_type": "stream",
     "text": [
      "\n",
      "After sorting list\n"
     ]
    },
    {
     "data": {
      "text/plain": [
       "[('orange', 80), ('mango', 99), ('grapes', 1000)]"
      ]
     },
     "execution_count": 11,
     "metadata": {},
     "output_type": "execute_result"
    }
   ],
   "source": [
    "print(\"\\nAfter sorting list\") ### Sorting List of fruits\n",
    "list1"
   ]
  },
  {
   "cell_type": "code",
   "execution_count": 12,
   "id": "e5734341-38d9-474e-9a87-6518ce2ec9f2",
   "metadata": {},
   "outputs": [],
   "source": [
    "sr_fun=lambda x:x*x ## Square of numbers form 1 to 10"
   ]
  },
  {
   "cell_type": "code",
   "execution_count": 13,
   "id": "826569ca-8113-42b0-ab6e-a469f70d9415",
   "metadata": {},
   "outputs": [
    {
     "data": {
      "text/plain": [
       "[1, 4, 9, 16, 25, 36, 49, 64, 81, 100]"
      ]
     },
     "execution_count": 13,
     "metadata": {},
     "output_type": "execute_result"
    }
   ],
   "source": [
    "list(map(sr_fun,range(1,11)))"
   ]
  },
  {
   "cell_type": "code",
   "execution_count": 14,
   "id": "214776e6-a672-4856-a1c1-3b280b9fc140",
   "metadata": {},
   "outputs": [],
   "source": [
    "cbrt_fun=lambda x:x**(1/3)  ## fucntion to find cube root of number"
   ]
  },
  {
   "cell_type": "code",
   "execution_count": 15,
   "id": "d2340b40-2583-4290-a3d0-60a9e1924619",
   "metadata": {},
   "outputs": [
    {
     "data": {
      "text/plain": [
       "[1.0,\n",
       " 1.2599210498948732,\n",
       " 1.4422495703074083,\n",
       " 1.5874010519681994,\n",
       " 1.7099759466766968,\n",
       " 1.8171205928321397,\n",
       " 1.912931182772389,\n",
       " 2.0,\n",
       " 2.080083823051904,\n",
       " 2.154434690031884]"
      ]
     },
     "execution_count": 15,
     "metadata": {},
     "output_type": "execute_result"
    }
   ],
   "source": [
    "list(map(cbrt_fun,range(1,11)))"
   ]
  },
  {
   "cell_type": "code",
   "execution_count": 16,
   "id": "3c7e4cd7-c560-412c-a2c9-c07eef1abe5e",
   "metadata": {},
   "outputs": [],
   "source": [
    "even_fun=lambda x:x%2==0  ## Creating a function to check if number is even or not"
   ]
  },
  {
   "cell_type": "code",
   "execution_count": 17,
   "id": "d323ea59-31bf-4a85-ab2d-e1200184a72d",
   "metadata": {},
   "outputs": [
    {
     "data": {
      "text/plain": [
       "False"
      ]
     },
     "execution_count": 17,
     "metadata": {},
     "output_type": "execute_result"
    }
   ],
   "source": [
    " even_fun(15)"
   ]
  },
  {
   "cell_type": "code",
   "execution_count": 18,
   "id": "a029d0e1-3d30-4ba7-b768-c007b4afe87d",
   "metadata": {},
   "outputs": [
    {
     "data": {
      "text/plain": [
       "True"
      ]
     },
     "execution_count": 18,
     "metadata": {},
     "output_type": "execute_result"
    }
   ],
   "source": [
    "even_fun(12)"
   ]
  },
  {
   "cell_type": "code",
   "execution_count": 19,
   "id": "af40182d-2296-4998-9c5f-dfdc96d58005",
   "metadata": {},
   "outputs": [
    {
     "data": {
      "text/plain": [
       "[1, 3, 5, 7, 9]"
      ]
     },
     "execution_count": 19,
     "metadata": {},
     "output_type": "execute_result"
    }
   ],
   "source": [
    "list(filter(lambda x:x%2!=0,[1,2,3,4,5,6,7,8,9,10])) ### filter out odd number from the list"
   ]
  },
  {
   "cell_type": "code",
   "execution_count": 20,
   "id": "434b2d92-15fd-443b-803d-76454eb1bc7b",
   "metadata": {},
   "outputs": [],
   "source": [
    "combine_list=[1,2,3,4,5,6,-1,-2,-3,-4,-5,0]   ### Postive and negative list"
   ]
  },
  {
   "cell_type": "code",
   "execution_count": 21,
   "id": "9fb81961-b55c-4ca5-bb5c-845e1b991f22",
   "metadata": {},
   "outputs": [],
   "source": [
    "positive_list=list(filter(lambda x:x>=0,combine_list))"
   ]
  },
  {
   "cell_type": "code",
   "execution_count": 22,
   "id": "2f4f1026-1d15-4366-84b3-7b38764375b7",
   "metadata": {},
   "outputs": [
    {
     "data": {
      "text/plain": [
       "[1, 2, 3, 4, 5, 6, 0]"
      ]
     },
     "execution_count": 22,
     "metadata": {},
     "output_type": "execute_result"
    }
   ],
   "source": [
    "positive_list"
   ]
  },
  {
   "cell_type": "code",
   "execution_count": 23,
   "id": "89220c0a-035f-4b6b-8bc0-d8cba5ba6f66",
   "metadata": {},
   "outputs": [],
   "source": [
    "negative_list=list(filter(lambda x:x<0,combine_list))"
   ]
  },
  {
   "cell_type": "code",
   "execution_count": 24,
   "id": "0749b8ea-fdcf-4c92-b215-cebdd75b26b9",
   "metadata": {},
   "outputs": [
    {
     "data": {
      "text/plain": [
       "[-1, -2, -3, -4, -5]"
      ]
     },
     "execution_count": 24,
     "metadata": {},
     "output_type": "execute_result"
    }
   ],
   "source": [
    "negative_list"
   ]
  },
  {
   "cell_type": "code",
   "execution_count": null,
   "id": "acfa980f-5d39-449b-b81a-53bcc1c5e961",
   "metadata": {},
   "outputs": [],
   "source": []
  }
 ],
 "metadata": {
  "kernelspec": {
   "display_name": "Python 3 (ipykernel)",
   "language": "python",
   "name": "python3"
  },
  "language_info": {
   "codemirror_mode": {
    "name": "ipython",
    "version": 3
   },
   "file_extension": ".py",
   "mimetype": "text/x-python",
   "name": "python",
   "nbconvert_exporter": "python",
   "pygments_lexer": "ipython3",
   "version": "3.10.8"
  }
 },
 "nbformat": 4,
 "nbformat_minor": 5
}
